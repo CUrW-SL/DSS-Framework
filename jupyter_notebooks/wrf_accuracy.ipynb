{
 "cells": [
  {
   "cell_type": "code",
   "execution_count": 4,
   "metadata": {},
   "outputs": [],
   "source": [
    "from netCDF4 import Dataset\n",
    "import numpy as np\n",
    "import os\n",
    "from datetime import datetime, timedelta\n",
    "import pandas as pd\n",
    "import matplotlib.pyplot as plt\n",
    "from functools import reduce"
   ]
  },
  {
   "cell_type": "code",
   "execution_count": 2,
   "metadata": {},
   "outputs": [],
   "source": [
    "def filter_grid_point(df, lat, lon):\n",
    "    filtered_df = df[(df['Lat']==lat) & (df['Lon']==lon)]\n",
    "    if not filtered_df.empty:\n",
    "        rain = filtered_df.iloc[0]['Rain']\n",
    "        return rain\n",
    "    else:\n",
    "        return 0.0"
   ]
  },
  {
   "cell_type": "code",
   "execution_count": 3,
   "metadata": {},
   "outputs": [],
   "source": [
    "def get_netcdf_rfield(netcdf_file,grid_lon, grid_lat):\n",
    "    nnc_fid = Dataset(netcdf_file, mode='r')\n",
    "    time_unit_info = nnc_fid.variables['XTIME'].description\n",
    "    time_unit_info_list = time_unit_info.split('since ')\n",
    "\n",
    "    lats = nnc_fid.variables['XLAT'][0, :, 0]\n",
    "    lons = nnc_fid.variables['XLONG'][0, 0, :]\n",
    "\n",
    "    lon_min = lons[0].item()\n",
    "    lat_min = lats[0].item()\n",
    "    lon_max = lons[-1].item()\n",
    "    lat_max = lats[-1].item()\n",
    "\n",
    "    lat_inds = np.where((lats >= lat_min) & (lats <= lat_max))\n",
    "    lon_inds = np.where((lons >= lon_min) & (lons <= lon_max))\n",
    "\n",
    "    rainnc = nnc_fid.variables['RAINNC'][:, lat_inds[0], lon_inds[0]]\n",
    "    times = nnc_fid.variables['XTIME'][:]\n",
    "    nnc_fid.close()\n",
    "    \n",
    "    #diff = get_per_time_slot_values(rainnc)\n",
    "    diff = rainnc\n",
    "    width = len(lons)\n",
    "    height = len(lats)\n",
    "    \n",
    "    plot_list = []\n",
    "    \n",
    "    for i in range(len(diff)):\n",
    "        ts_time = datetime.strptime(time_unit_info_list[1], '%Y-%m-%d %H:%M:%S') + timedelta(minutes=times[i].item())\n",
    "        t = datetime_utc_to_lk(ts_time, shift_mins=0)\n",
    "        timestamp = t.strftime('%Y-%m-%d %H-%M-00')\n",
    "        ts_list = []\n",
    "        for y in range(height):\n",
    "            for x in range(width):\n",
    "                lat = float('%.6f' % lats[y])\n",
    "                lon = float('%.6f' % lons[x])\n",
    "                rain = '%.3f' % float(diff[i, y, x])\n",
    "                ts_list.append([lon, lat, rain])\n",
    "        ts_df = pd.DataFrame(ts_list, columns=['Lon', 'Lat', 'Rain'])\n",
    "        grid_point_rain = float(filter_grid_point(ts_df, grid_lat, grid_lon))\n",
    "        plot_list.append([timestamp, grid_point_rain])\n",
    "    return plot_list"
   ]
  },
  {
   "cell_type": "code",
   "execution_count": 4,
   "metadata": {},
   "outputs": [],
   "source": [
    "def plot_grid_point_df(rain_source, netcdf_file,grid_lon, grid_lat):\n",
    "    plot_list = get_netcdf_rfield(netcdf_file,grid_lon, grid_lat)\n",
    "    if len(plot_list)>0:\n",
    "        df = pd.DataFrame(plot_list, columns=['Time',rain_source])\n",
    "        return df\n",
    "    else:\n",
    "        return None"
   ]
  },
  {
   "cell_type": "code",
   "execution_count": 5,
   "metadata": {},
   "outputs": [],
   "source": [
    "def plot_grid_point_df_list(rain_source_list, netcdf_file_list, grid_lon, grid_lat):\n",
    "    df_list = []\n",
    "    i = 0\n",
    "    for netcdf_file in netcdf_file_list:\n",
    "        df = plot_grid_point_df(rain_source_list[i], netcdf_file,grid_lon, grid_lat)\n",
    "        i+=1\n",
    "        if df is not None:\n",
    "            df_list.append(df)\n",
    "    return df_list"
   ]
  },
  {
   "cell_type": "code",
   "execution_count": 6,
   "metadata": {},
   "outputs": [],
   "source": [
    "def get_per_time_slot_values(prcp):\n",
    "    per_interval_prcp = (prcp[1:] - prcp[:-1])\n",
    "    return per_interval_prcp\n",
    "\n",
    "def datetime_utc_to_lk(timestamp_utc, shift_mins=0):\n",
    "    return timestamp_utc + timedelta(hours=5, minutes=30 + shift_mins)"
   ]
  },
  {
   "cell_type": "code",
   "execution_count": 7,
   "metadata": {},
   "outputs": [],
   "source": [
    "def filter_rain(df, time):\n",
    "    filtered_df = df[(df['Time']==time)]\n",
    "    if not filtered_df.empty:\n",
    "        rain = filtered_df.iloc[0]['Observed']\n",
    "        return rain\n",
    "    else:\n",
    "        return 0.0\n",
    "def get_obs_rain_df(observed_rain_file):\n",
    "    observed_df = pd.read_csv(observed_rain_file)\n",
    "    start_time = '2019-12-31 23-30-00'\n",
    "    end_time = '2019-01-03 23-30-00'\n",
    "    time_series = []\n",
    "    rain = 0.0\n",
    "    start_time = datetime.strptime(start_time, '%Y-%m-%d %H-%M-%S')\n",
    "    end_time = datetime.strptime(end_time, '%Y-%m-%d %H-%M-%S')\n",
    "    for i in range(289):\n",
    "        timestamp = start_time.strftime('%Y-%m-%d %H-%M-%S')\n",
    "        rain = rain+float(filter_rain(observed_df, timestamp))\n",
    "        time_series.append([timestamp, rain])\n",
    "        start_time = start_time + timedelta(minutes=15)\n",
    "    obs_df = pd.DataFrame(time_series, columns=['Time','Observed'])\n",
    "    #obs_df.plot(x='Time', y='Observed', kind='line', figsize=(20,10), grid=True)\n",
    "    return obs_df"
   ]
  },
  {
   "cell_type": "code",
   "execution_count": 8,
   "metadata": {},
   "outputs": [],
   "source": [
    "netcdf_files = ['/home/hasitha/PycharmProjects/DSS-Framework/output/netcdf/2020-01-02_output_wrf_A_d03_RAINNC.nc', \n",
    "                '/home/hasitha/PycharmProjects/DSS-Framework/output/netcdf/2020-01-02_output_wrf_C_d03_RAINNC.nc',\n",
    "               '/home/hasitha/PycharmProjects/DSS-Framework/output/netcdf/2020-01-02_output_wrf_E_d03_RAINNC.nc',\n",
    "               '/home/hasitha/PycharmProjects/DSS-Framework/output/netcdf/2020-01-02_output_wrf_SE_d03_RAINNC.nc']\n",
    "rain_sources = ['A','C','E','SE']"
   ]
  },
  {
   "cell_type": "code",
   "execution_count": 9,
   "metadata": {},
   "outputs": [],
   "source": [
    "def plot_models_rfields_of_grid(model_list, netcdf_files,lon, lat):\n",
    "    df_list = plot_grid_point_df_list(model_list, netcdf_files,lon, lat)\n",
    "    for i in range(len(df_list)):\n",
    "        print(df_list[i])\n",
    "    plot_df = reduce(lambda x, y: pd.merge(x, y, on = 'Time'), df_list)\n",
    "    plot_df.plot(x='Time', y=model_list, kind='line', figsize=(20,10), grid=True)"
   ]
  },
  {
   "cell_type": "code",
   "execution_count": 10,
   "metadata": {},
   "outputs": [
    {
     "name": "stdout",
     "output_type": "stream",
     "text": [
      "                    Time    A\n",
      "0    2019-12-31 23-30-00  0.0\n",
      "1    2019-12-31 23-45-00  0.0\n",
      "2    2020-01-01 00-00-00  0.0\n",
      "3    2020-01-01 00-15-00  0.0\n",
      "4    2020-01-01 00-30-00  0.0\n",
      "..                   ...  ...\n",
      "284  2020-01-03 22-30-00  0.0\n",
      "285  2020-01-03 22-45-00  0.0\n",
      "286  2020-01-03 23-00-00  0.0\n",
      "287  2020-01-03 23-15-00  0.0\n",
      "288  2020-01-03 23-30-00  0.0\n",
      "\n",
      "[289 rows x 2 columns]\n",
      "                    Time    C\n",
      "0    2019-12-31 23-30-00  0.0\n",
      "1    2019-12-31 23-45-00  0.0\n",
      "2    2020-01-01 00-00-00  0.0\n",
      "3    2020-01-01 00-15-00  0.0\n",
      "4    2020-01-01 00-30-00  0.0\n",
      "..                   ...  ...\n",
      "284  2020-01-03 22-30-00  0.0\n",
      "285  2020-01-03 22-45-00  0.0\n",
      "286  2020-01-03 23-00-00  0.0\n",
      "287  2020-01-03 23-15-00  0.0\n",
      "288  2020-01-03 23-30-00  0.0\n",
      "\n",
      "[289 rows x 2 columns]\n",
      "                    Time    E\n",
      "0    2019-12-31 23-30-00  0.0\n",
      "1    2019-12-31 23-45-00  0.0\n",
      "2    2020-01-01 00-00-00  0.0\n",
      "3    2020-01-01 00-15-00  0.0\n",
      "4    2020-01-01 00-30-00  0.0\n",
      "..                   ...  ...\n",
      "284  2020-01-03 22-30-00  0.0\n",
      "285  2020-01-03 22-45-00  0.0\n",
      "286  2020-01-03 23-00-00  0.0\n",
      "287  2020-01-03 23-15-00  0.0\n",
      "288  2020-01-03 23-30-00  0.0\n",
      "\n",
      "[289 rows x 2 columns]\n",
      "                    Time   SE\n",
      "0    2019-12-31 23-30-00  0.0\n",
      "1    2019-12-31 23-45-00  0.0\n",
      "2    2020-01-01 00-00-00  0.0\n",
      "3    2020-01-01 00-15-00  0.0\n",
      "4    2020-01-01 00-30-00  0.0\n",
      "..                   ...  ...\n",
      "284  2020-01-03 22-30-00  0.0\n",
      "285  2020-01-03 22-45-00  0.0\n",
      "286  2020-01-03 23-00-00  0.0\n",
      "287  2020-01-03 23-15-00  0.0\n",
      "288  2020-01-03 23-30-00  0.0\n",
      "\n",
      "[289 rows x 2 columns]\n"
     ]
    },
    {
     "data": {
      "image/png": "[encoded data removed]",
      "text/plain": [
       "<Figure size 1440x720 with 1 Axes>"
      ]
     },
     "metadata": {
      "needs_background": "light"
     },
     "output_type": "display_data"
    }
   ],
   "source": [
    "#plot_models_rfields_of_grid(rain_sources, netcdf_files, 80.556168, 7.102936)\n",
    "plot_models_rfields_of_grid(rain_sources, netcdf_files, 79.919000, 6.908000)"
   ]
  },
  {
   "cell_type": "code",
   "execution_count": 13,
   "metadata": {},
   "outputs": [
    {
     "data": {
      "text/html": [
       "<div>\n",
       "<style scoped>\n",
       "    .dataframe tbody tr th:only-of-type {\n",
       "        vertical-align: middle;\n",
       "    }\n",
       "\n",
       "    .dataframe tbody tr th {\n",
       "        vertical-align: top;\n",
       "    }\n",
       "\n",
       "    .dataframe thead th {\n",
       "        text-align: right;\n",
       "    }\n",
       "</style>\n",
       "<table border=\"1\" class=\"dataframe\">\n",
       "  <thead>\n",
       "    <tr style=\"text-align: right;\">\n",
       "      <th></th>\n",
       "      <th>Time</th>\n",
       "      <th>A</th>\n",
       "    </tr>\n",
       "  </thead>\n",
       "  <tbody>\n",
       "    <tr>\n",
       "      <td>0</td>\n",
       "      <td>2019-12-31 23-30-00</td>\n",
       "      <td>0.0</td>\n",
       "    </tr>\n",
       "    <tr>\n",
       "      <td>1</td>\n",
       "      <td>2019-12-31 23-45-00</td>\n",
       "      <td>0.0</td>\n",
       "    </tr>\n",
       "    <tr>\n",
       "      <td>2</td>\n",
       "      <td>2020-01-01 00-00-00</td>\n",
       "      <td>0.0</td>\n",
       "    </tr>\n",
       "    <tr>\n",
       "      <td>3</td>\n",
       "      <td>2020-01-01 00-15-00</td>\n",
       "      <td>0.0</td>\n",
       "    </tr>\n",
       "    <tr>\n",
       "      <td>4</td>\n",
       "      <td>2020-01-01 00-30-00</td>\n",
       "      <td>0.0</td>\n",
       "    </tr>\n",
       "    <tr>\n",
       "      <td>...</td>\n",
       "      <td>...</td>\n",
       "      <td>...</td>\n",
       "    </tr>\n",
       "    <tr>\n",
       "      <td>284</td>\n",
       "      <td>2020-01-03 22-30-00</td>\n",
       "      <td>0.0</td>\n",
       "    </tr>\n",
       "    <tr>\n",
       "      <td>285</td>\n",
       "      <td>2020-01-03 22-45-00</td>\n",
       "      <td>0.0</td>\n",
       "    </tr>\n",
       "    <tr>\n",
       "      <td>286</td>\n",
       "      <td>2020-01-03 23-00-00</td>\n",
       "      <td>0.0</td>\n",
       "    </tr>\n",
       "    <tr>\n",
       "      <td>287</td>\n",
       "      <td>2020-01-03 23-15-00</td>\n",
       "      <td>0.0</td>\n",
       "    </tr>\n",
       "    <tr>\n",
       "      <td>288</td>\n",
       "      <td>2020-01-03 23-30-00</td>\n",
       "      <td>0.0</td>\n",
       "    </tr>\n",
       "  </tbody>\n",
       "</table>\n",
       "<p>289 rows × 2 columns</p>\n",
       "</div>"
      ],
      "text/plain": [
       "                    Time    A\n",
       "0    2019-12-31 23-30-00  0.0\n",
       "1    2019-12-31 23-45-00  0.0\n",
       "2    2020-01-01 00-00-00  0.0\n",
       "3    2020-01-01 00-15-00  0.0\n",
       "4    2020-01-01 00-30-00  0.0\n",
       "..                   ...  ...\n",
       "284  2020-01-03 22-30-00  0.0\n",
       "285  2020-01-03 22-45-00  0.0\n",
       "286  2020-01-03 23-00-00  0.0\n",
       "287  2020-01-03 23-15-00  0.0\n",
       "288  2020-01-03 23-30-00  0.0\n",
       "\n",
       "[289 rows x 2 columns]"
      ]
     },
     "execution_count": 13,
     "metadata": {},
     "output_type": "execute_result"
    }
   ],
   "source": [
    "rain_A_df = plot_grid_point_df('A', '/home/hasitha/PycharmProjects/DSS-Framework/output/netcdf/2020-01-02_output_wrf_A_d03_RAINNC.nc',79.919000, 6.908000)\n",
    "rain_A_df"
   ]
  },
  {
   "cell_type": "code",
   "execution_count": 14,
   "metadata": {},
   "outputs": [
    {
     "ename": "KeyError",
     "evalue": "'Time'",
     "output_type": "error",
     "traceback": [
      "\u001b[0;31m---------------------------------------------------------------------------\u001b[0m",
      "\u001b[0;31mKeyError\u001b[0m                                  Traceback (most recent call last)",
      "\u001b[0;32m~/.local/lib/python3.6/site-packages/pandas/core/indexes/base.py\u001b[0m in \u001b[0;36mget_loc\u001b[0;34m(self, key, method, tolerance)\u001b[0m\n\u001b[1;32m   2896\u001b[0m             \u001b[0;32mtry\u001b[0m\u001b[0;34m:\u001b[0m\u001b[0;34m\u001b[0m\u001b[0m\n\u001b[0;32m-> 2897\u001b[0;31m                 \u001b[0;32mreturn\u001b[0m \u001b[0mself\u001b[0m\u001b[0;34m.\u001b[0m\u001b[0m_engine\u001b[0m\u001b[0;34m.\u001b[0m\u001b[0mget_loc\u001b[0m\u001b[0;34m(\u001b[0m\u001b[0mkey\u001b[0m\u001b[0;34m)\u001b[0m\u001b[0;34m\u001b[0m\u001b[0m\n\u001b[0m\u001b[1;32m   2898\u001b[0m             \u001b[0;32mexcept\u001b[0m \u001b[0mKeyError\u001b[0m\u001b[0;34m:\u001b[0m\u001b[0;34m\u001b[0m\u001b[0m\n",
      "\u001b[0;32mpandas/_libs/index.pyx\u001b[0m in \u001b[0;36mpandas._libs.index.IndexEngine.get_loc\u001b[0;34m()\u001b[0m\n",
      "\u001b[0;32mpandas/_libs/index.pyx\u001b[0m in \u001b[0;36mpandas._libs.index.IndexEngine.get_loc\u001b[0;34m()\u001b[0m\n",
      "\u001b[0;32mpandas/_libs/hashtable_class_helper.pxi\u001b[0m in \u001b[0;36mpandas._libs.hashtable.PyObjectHashTable.get_item\u001b[0;34m()\u001b[0m\n",
      "\u001b[0;32mpandas/_libs/hashtable_class_helper.pxi\u001b[0m in \u001b[0;36mpandas._libs.hashtable.PyObjectHashTable.get_item\u001b[0;34m()\u001b[0m\n",
      "\u001b[0;31mKeyError\u001b[0m: 'Time'",
      "\nDuring handling of the above exception, another exception occurred:\n",
      "\u001b[0;31mKeyError\u001b[0m                                  Traceback (most recent call last)",
      "\u001b[0;32m<ipython-input-14-4b5f6475a536>\u001b[0m in \u001b[0;36m<module>\u001b[0;34m()\u001b[0m\n\u001b[1;32m      1\u001b[0m \u001b[0mobserved_rain_file\u001b[0m \u001b[0;34m=\u001b[0m \u001b[0;34m'/home/hasitha/PycharmProjects/DSS-Framework/output/rain/colombo07/obs_colombo07.csv'\u001b[0m\u001b[0;34m\u001b[0m\u001b[0m\n\u001b[0;32m----> 2\u001b[0;31m \u001b[0mobs_df\u001b[0m \u001b[0;34m=\u001b[0m \u001b[0mget_obs_rain_df\u001b[0m\u001b[0;34m(\u001b[0m\u001b[0mobserved_rain_file\u001b[0m\u001b[0;34m)\u001b[0m\u001b[0;34m\u001b[0m\u001b[0m\n\u001b[0m\u001b[1;32m      3\u001b[0m \u001b[0mobs_df\u001b[0m\u001b[0;34m\u001b[0m\u001b[0m\n",
      "\u001b[0;32m<ipython-input-7-dfd870f76acf>\u001b[0m in \u001b[0;36mget_obs_rain_df\u001b[0;34m(observed_rain_file)\u001b[0m\n\u001b[1;32m     16\u001b[0m     \u001b[0;32mfor\u001b[0m \u001b[0mi\u001b[0m \u001b[0;32min\u001b[0m \u001b[0mrange\u001b[0m\u001b[0;34m(\u001b[0m\u001b[0;36m289\u001b[0m\u001b[0;34m)\u001b[0m\u001b[0;34m:\u001b[0m\u001b[0;34m\u001b[0m\u001b[0m\n\u001b[1;32m     17\u001b[0m         \u001b[0mtimestamp\u001b[0m \u001b[0;34m=\u001b[0m \u001b[0mstart_time\u001b[0m\u001b[0;34m.\u001b[0m\u001b[0mstrftime\u001b[0m\u001b[0;34m(\u001b[0m\u001b[0;34m'%Y-%m-%d %H-%M-%S'\u001b[0m\u001b[0;34m)\u001b[0m\u001b[0;34m\u001b[0m\u001b[0m\n\u001b[0;32m---> 18\u001b[0;31m         \u001b[0mrain\u001b[0m \u001b[0;34m=\u001b[0m \u001b[0mrain\u001b[0m\u001b[0;34m+\u001b[0m\u001b[0mfloat\u001b[0m\u001b[0;34m(\u001b[0m\u001b[0mfilter_rain\u001b[0m\u001b[0;34m(\u001b[0m\u001b[0mobserved_df\u001b[0m\u001b[0;34m,\u001b[0m \u001b[0mtimestamp\u001b[0m\u001b[0;34m)\u001b[0m\u001b[0;34m)\u001b[0m\u001b[0;34m\u001b[0m\u001b[0m\n\u001b[0m\u001b[1;32m     19\u001b[0m         \u001b[0mtime_series\u001b[0m\u001b[0;34m.\u001b[0m\u001b[0mappend\u001b[0m\u001b[0;34m(\u001b[0m\u001b[0;34m[\u001b[0m\u001b[0mtimestamp\u001b[0m\u001b[0;34m,\u001b[0m \u001b[0mrain\u001b[0m\u001b[0;34m]\u001b[0m\u001b[0;34m)\u001b[0m\u001b[0;34m\u001b[0m\u001b[0m\n\u001b[1;32m     20\u001b[0m         \u001b[0mstart_time\u001b[0m \u001b[0;34m=\u001b[0m \u001b[0mstart_time\u001b[0m \u001b[0;34m+\u001b[0m \u001b[0mtimedelta\u001b[0m\u001b[0;34m(\u001b[0m\u001b[0mminutes\u001b[0m\u001b[0;34m=\u001b[0m\u001b[0;36m15\u001b[0m\u001b[0;34m)\u001b[0m\u001b[0;34m\u001b[0m\u001b[0m\n",
      "\u001b[0;32m<ipython-input-7-dfd870f76acf>\u001b[0m in \u001b[0;36mfilter_rain\u001b[0;34m(df, time)\u001b[0m\n\u001b[1;32m      1\u001b[0m \u001b[0;32mdef\u001b[0m \u001b[0mfilter_rain\u001b[0m\u001b[0;34m(\u001b[0m\u001b[0mdf\u001b[0m\u001b[0;34m,\u001b[0m \u001b[0mtime\u001b[0m\u001b[0;34m)\u001b[0m\u001b[0;34m:\u001b[0m\u001b[0;34m\u001b[0m\u001b[0m\n\u001b[0;32m----> 2\u001b[0;31m     \u001b[0mfiltered_df\u001b[0m \u001b[0;34m=\u001b[0m \u001b[0mdf\u001b[0m\u001b[0;34m[\u001b[0m\u001b[0;34m(\u001b[0m\u001b[0mdf\u001b[0m\u001b[0;34m[\u001b[0m\u001b[0;34m'Time'\u001b[0m\u001b[0;34m]\u001b[0m\u001b[0;34m==\u001b[0m\u001b[0mtime\u001b[0m\u001b[0;34m)\u001b[0m\u001b[0;34m]\u001b[0m\u001b[0;34m\u001b[0m\u001b[0m\n\u001b[0m\u001b[1;32m      3\u001b[0m     \u001b[0;32mif\u001b[0m \u001b[0;32mnot\u001b[0m \u001b[0mfiltered_df\u001b[0m\u001b[0;34m.\u001b[0m\u001b[0mempty\u001b[0m\u001b[0;34m:\u001b[0m\u001b[0;34m\u001b[0m\u001b[0m\n\u001b[1;32m      4\u001b[0m         \u001b[0mrain\u001b[0m \u001b[0;34m=\u001b[0m \u001b[0mfiltered_df\u001b[0m\u001b[0;34m.\u001b[0m\u001b[0miloc\u001b[0m\u001b[0;34m[\u001b[0m\u001b[0;36m0\u001b[0m\u001b[0;34m]\u001b[0m\u001b[0;34m[\u001b[0m\u001b[0;34m'Observed'\u001b[0m\u001b[0;34m]\u001b[0m\u001b[0;34m\u001b[0m\u001b[0m\n\u001b[1;32m      5\u001b[0m         \u001b[0;32mreturn\u001b[0m \u001b[0mrain\u001b[0m\u001b[0;34m\u001b[0m\u001b[0m\n",
      "\u001b[0;32m~/.local/lib/python3.6/site-packages/pandas/core/frame.py\u001b[0m in \u001b[0;36m__getitem__\u001b[0;34m(self, key)\u001b[0m\n\u001b[1;32m   2978\u001b[0m             \u001b[0;32mif\u001b[0m \u001b[0mself\u001b[0m\u001b[0;34m.\u001b[0m\u001b[0mcolumns\u001b[0m\u001b[0;34m.\u001b[0m\u001b[0mnlevels\u001b[0m \u001b[0;34m>\u001b[0m \u001b[0;36m1\u001b[0m\u001b[0;34m:\u001b[0m\u001b[0;34m\u001b[0m\u001b[0m\n\u001b[1;32m   2979\u001b[0m                 \u001b[0;32mreturn\u001b[0m \u001b[0mself\u001b[0m\u001b[0;34m.\u001b[0m\u001b[0m_getitem_multilevel\u001b[0m\u001b[0;34m(\u001b[0m\u001b[0mkey\u001b[0m\u001b[0;34m)\u001b[0m\u001b[0;34m\u001b[0m\u001b[0m\n\u001b[0;32m-> 2980\u001b[0;31m             \u001b[0mindexer\u001b[0m \u001b[0;34m=\u001b[0m \u001b[0mself\u001b[0m\u001b[0;34m.\u001b[0m\u001b[0mcolumns\u001b[0m\u001b[0;34m.\u001b[0m\u001b[0mget_loc\u001b[0m\u001b[0;34m(\u001b[0m\u001b[0mkey\u001b[0m\u001b[0;34m)\u001b[0m\u001b[0;34m\u001b[0m\u001b[0m\n\u001b[0m\u001b[1;32m   2981\u001b[0m             \u001b[0;32mif\u001b[0m \u001b[0mis_integer\u001b[0m\u001b[0;34m(\u001b[0m\u001b[0mindexer\u001b[0m\u001b[0;34m)\u001b[0m\u001b[0;34m:\u001b[0m\u001b[0;34m\u001b[0m\u001b[0m\n\u001b[1;32m   2982\u001b[0m                 \u001b[0mindexer\u001b[0m \u001b[0;34m=\u001b[0m \u001b[0;34m[\u001b[0m\u001b[0mindexer\u001b[0m\u001b[0;34m]\u001b[0m\u001b[0;34m\u001b[0m\u001b[0m\n",
      "\u001b[0;32m~/.local/lib/python3.6/site-packages/pandas/core/indexes/base.py\u001b[0m in \u001b[0;36mget_loc\u001b[0;34m(self, key, method, tolerance)\u001b[0m\n\u001b[1;32m   2897\u001b[0m                 \u001b[0;32mreturn\u001b[0m \u001b[0mself\u001b[0m\u001b[0;34m.\u001b[0m\u001b[0m_engine\u001b[0m\u001b[0;34m.\u001b[0m\u001b[0mget_loc\u001b[0m\u001b[0;34m(\u001b[0m\u001b[0mkey\u001b[0m\u001b[0;34m)\u001b[0m\u001b[0;34m\u001b[0m\u001b[0m\n\u001b[1;32m   2898\u001b[0m             \u001b[0;32mexcept\u001b[0m \u001b[0mKeyError\u001b[0m\u001b[0;34m:\u001b[0m\u001b[0;34m\u001b[0m\u001b[0m\n\u001b[0;32m-> 2899\u001b[0;31m                 \u001b[0;32mreturn\u001b[0m \u001b[0mself\u001b[0m\u001b[0;34m.\u001b[0m\u001b[0m_engine\u001b[0m\u001b[0;34m.\u001b[0m\u001b[0mget_loc\u001b[0m\u001b[0;34m(\u001b[0m\u001b[0mself\u001b[0m\u001b[0;34m.\u001b[0m\u001b[0m_maybe_cast_indexer\u001b[0m\u001b[0;34m(\u001b[0m\u001b[0mkey\u001b[0m\u001b[0;34m)\u001b[0m\u001b[0;34m)\u001b[0m\u001b[0;34m\u001b[0m\u001b[0m\n\u001b[0m\u001b[1;32m   2900\u001b[0m         \u001b[0mindexer\u001b[0m \u001b[0;34m=\u001b[0m \u001b[0mself\u001b[0m\u001b[0;34m.\u001b[0m\u001b[0mget_indexer\u001b[0m\u001b[0;34m(\u001b[0m\u001b[0;34m[\u001b[0m\u001b[0mkey\u001b[0m\u001b[0;34m]\u001b[0m\u001b[0;34m,\u001b[0m \u001b[0mmethod\u001b[0m\u001b[0;34m=\u001b[0m\u001b[0mmethod\u001b[0m\u001b[0;34m,\u001b[0m \u001b[0mtolerance\u001b[0m\u001b[0;34m=\u001b[0m\u001b[0mtolerance\u001b[0m\u001b[0;34m)\u001b[0m\u001b[0;34m\u001b[0m\u001b[0m\n\u001b[1;32m   2901\u001b[0m         \u001b[0;32mif\u001b[0m \u001b[0mindexer\u001b[0m\u001b[0;34m.\u001b[0m\u001b[0mndim\u001b[0m \u001b[0;34m>\u001b[0m \u001b[0;36m1\u001b[0m \u001b[0;32mor\u001b[0m \u001b[0mindexer\u001b[0m\u001b[0;34m.\u001b[0m\u001b[0msize\u001b[0m \u001b[0;34m>\u001b[0m \u001b[0;36m1\u001b[0m\u001b[0;34m:\u001b[0m\u001b[0;34m\u001b[0m\u001b[0m\n",
      "\u001b[0;32mpandas/_libs/index.pyx\u001b[0m in \u001b[0;36mpandas._libs.index.IndexEngine.get_loc\u001b[0;34m()\u001b[0m\n",
      "\u001b[0;32mpandas/_libs/index.pyx\u001b[0m in \u001b[0;36mpandas._libs.index.IndexEngine.get_loc\u001b[0;34m()\u001b[0m\n",
      "\u001b[0;32mpandas/_libs/hashtable_class_helper.pxi\u001b[0m in \u001b[0;36mpandas._libs.hashtable.PyObjectHashTable.get_item\u001b[0;34m()\u001b[0m\n",
      "\u001b[0;32mpandas/_libs/hashtable_class_helper.pxi\u001b[0m in \u001b[0;36mpandas._libs.hashtable.PyObjectHashTable.get_item\u001b[0;34m()\u001b[0m\n",
      "\u001b[0;31mKeyError\u001b[0m: 'Time'"
     ]
    }
   ],
   "source": [
    "observed_rain_file = '/home/hasitha/PycharmProjects/DSS-Framework/output/rain/colombo07/obs_colombo07.csv'\n",
    "obs_df = get_obs_rain_df(observed_rain_file)\n",
    "obs_df"
   ]
  },
  {
   "cell_type": "code",
   "execution_count": null,
   "metadata": {},
   "outputs": [],
   "source": [
    "rain_C_df = plot_grid_point_df('C', '/home/hasitha/PycharmProjects/DSS-Framework/output/netcdf/2020-01-02_output_wrf_C_d03_RAINNC.nc',79.919000, 6.908000)\n",
    "rain_C_df"
   ]
  },
  {
   "cell_type": "code",
   "execution_count": null,
   "metadata": {},
   "outputs": [],
   "source": [
    "rain_E_df = plot_grid_point_df('E', '/home/hasitha/PycharmProjects/DSS-Framework/output/netcdf/2020-01-02_output_wrf_E_d03_RAINNC.nc',79.919000, 6.908000)\n",
    "rain_E_df"
   ]
  },
  {
   "cell_type": "code",
   "execution_count": null,
   "metadata": {},
   "outputs": [],
   "source": [
    "rain_SE_df = plot_grid_point_df('SE', '/home/hasitha/PycharmProjects/DSS-Framework/output/netcdf/2020-01-02_output_wrf_SE_d03_RAINNC.nc',79.919000, 6.908000)\n",
    "rain_SE_df"
   ]
  },
  {
   "cell_type": "code",
   "execution_count": null,
   "metadata": {},
   "outputs": [],
   "source": [
    "# plot_df = reduce(lambda x,y: pd.merge(x,y, on='Time', how='outer'), [obs_df,rain_A_df,rain_C_df, rain_E_df,rain_SE_df])\n",
    "plot_df = reduce(lambda x,y: pd.merge(x,y, on='Time', how='outer'), [rain_A_df,rain_C_df, rain_E_df,rain_SE_df])"
   ]
  },
  {
   "cell_type": "code",
   "execution_count": null,
   "metadata": {},
   "outputs": [],
   "source": [
    "# plot_df.plot(x='Time', y=['Observed','A','C','E','SE'], kind='line', figsize=(20,10), grid=True)\n",
    "plot_df.plot(x='Time', y=['A','C','E','SE'], kind='line', figsize=(20,10), grid=True)"
   ]
  },
  {
   "cell_type": "code",
   "execution_count": 2,
   "metadata": {},
   "outputs": [],
   "source": [
    "def filter_rain_val(df, time):\n",
    "    filtered_df = df[(df['time']==time)]\n",
    "    if not filtered_df.empty:\n",
    "        rain = filtered_df.iloc[0]['value']\n",
    "        return rain\n",
    "    else:\n",
    "        return 0.0\n",
    "    \n",
    "def get_rain_df(rain_file, model):\n",
    "    rain_df = pd.read_csv(rain_file)\n",
    "    start_time = '2019-12-31 23:30:00'\n",
    "    end_time = '2019-01-03 23:30:00'\n",
    "    time_series = []\n",
    "    rain = 0.0\n",
    "    start_time = datetime.strptime(start_time, '%Y-%m-%d %H:%M:%S')\n",
    "    end_time = datetime.strptime(end_time, '%Y-%m-%d %H:%M:%S')\n",
    "    for i in range(289):\n",
    "        timestamp = start_time.strftime('%Y-%m-%d %H:%M:%S')\n",
    "        rain = rain + float(filter_rain_val(rain_df, timestamp))\n",
    "        time_series.append([timestamp, rain])\n",
    "        start_time = start_time + timedelta(minutes=15)\n",
    "    formatted_rain_df = pd.DataFrame(time_series, columns=['Time',model])\n",
    "    return formatted_rain_df"
   ]
  },
  {
   "cell_type": "code",
   "execution_count": 17,
   "metadata": {},
   "outputs": [
    {
     "data": {
      "text/html": [
       "<div>\n",
       "<style scoped>\n",
       "    .dataframe tbody tr th:only-of-type {\n",
       "        vertical-align: middle;\n",
       "    }\n",
       "\n",
       "    .dataframe tbody tr th {\n",
       "        vertical-align: top;\n",
       "    }\n",
       "\n",
       "    .dataframe thead th {\n",
       "        text-align: right;\n",
       "    }\n",
       "</style>\n",
       "<table border=\"1\" class=\"dataframe\">\n",
       "  <thead>\n",
       "    <tr style=\"text-align: right;\">\n",
       "      <th></th>\n",
       "      <th>Time</th>\n",
       "      <th>A</th>\n",
       "    </tr>\n",
       "  </thead>\n",
       "  <tbody>\n",
       "    <tr>\n",
       "      <td>0</td>\n",
       "      <td>2019-12-31 23:30:00</td>\n",
       "      <td>0.000</td>\n",
       "    </tr>\n",
       "    <tr>\n",
       "      <td>1</td>\n",
       "      <td>2019-12-31 23:45:00</td>\n",
       "      <td>0.000</td>\n",
       "    </tr>\n",
       "    <tr>\n",
       "      <td>2</td>\n",
       "      <td>2020-01-01 00:00:00</td>\n",
       "      <td>0.000</td>\n",
       "    </tr>\n",
       "    <tr>\n",
       "      <td>3</td>\n",
       "      <td>2020-01-01 00:15:00</td>\n",
       "      <td>0.000</td>\n",
       "    </tr>\n",
       "    <tr>\n",
       "      <td>4</td>\n",
       "      <td>2020-01-01 00:30:00</td>\n",
       "      <td>0.000</td>\n",
       "    </tr>\n",
       "    <tr>\n",
       "      <td>...</td>\n",
       "      <td>...</td>\n",
       "      <td>...</td>\n",
       "    </tr>\n",
       "    <tr>\n",
       "      <td>284</td>\n",
       "      <td>2020-01-03 22:30:00</td>\n",
       "      <td>9.042</td>\n",
       "    </tr>\n",
       "    <tr>\n",
       "      <td>285</td>\n",
       "      <td>2020-01-03 22:45:00</td>\n",
       "      <td>9.042</td>\n",
       "    </tr>\n",
       "    <tr>\n",
       "      <td>286</td>\n",
       "      <td>2020-01-03 23:00:00</td>\n",
       "      <td>9.042</td>\n",
       "    </tr>\n",
       "    <tr>\n",
       "      <td>287</td>\n",
       "      <td>2020-01-03 23:15:00</td>\n",
       "      <td>9.042</td>\n",
       "    </tr>\n",
       "    <tr>\n",
       "      <td>288</td>\n",
       "      <td>2020-01-03 23:30:00</td>\n",
       "      <td>9.042</td>\n",
       "    </tr>\n",
       "  </tbody>\n",
       "</table>\n",
       "<p>289 rows × 2 columns</p>\n",
       "</div>"
      ],
      "text/plain": [
       "                    Time      A\n",
       "0    2019-12-31 23:30:00  0.000\n",
       "1    2019-12-31 23:45:00  0.000\n",
       "2    2020-01-01 00:00:00  0.000\n",
       "3    2020-01-01 00:15:00  0.000\n",
       "4    2020-01-01 00:30:00  0.000\n",
       "..                   ...    ...\n",
       "284  2020-01-03 22:30:00  9.042\n",
       "285  2020-01-03 22:45:00  9.042\n",
       "286  2020-01-03 23:00:00  9.042\n",
       "287  2020-01-03 23:15:00  9.042\n",
       "288  2020-01-03 23:30:00  9.042\n",
       "\n",
       "[289 rows x 2 columns]"
      ]
     },
     "execution_count": 17,
     "metadata": {},
     "output_type": "execute_result"
    }
   ],
   "source": [
    "rain_A_df = get_rain_df('/home/hasitha/PycharmProjects/DSS-Framework/output/rain/colombo07/fcst_A_colombo07.csv','A')\n",
    "rain_A_df"
   ]
  },
  {
   "cell_type": "code",
   "execution_count": 18,
   "metadata": {},
   "outputs": [
    {
     "data": {
      "text/html": [
       "<div>\n",
       "<style scoped>\n",
       "    .dataframe tbody tr th:only-of-type {\n",
       "        vertical-align: middle;\n",
       "    }\n",
       "\n",
       "    .dataframe tbody tr th {\n",
       "        vertical-align: top;\n",
       "    }\n",
       "\n",
       "    .dataframe thead th {\n",
       "        text-align: right;\n",
       "    }\n",
       "</style>\n",
       "<table border=\"1\" class=\"dataframe\">\n",
       "  <thead>\n",
       "    <tr style=\"text-align: right;\">\n",
       "      <th></th>\n",
       "      <th>Time</th>\n",
       "      <th>C</th>\n",
       "    </tr>\n",
       "  </thead>\n",
       "  <tbody>\n",
       "    <tr>\n",
       "      <td>0</td>\n",
       "      <td>2019-12-31 23:30:00</td>\n",
       "      <td>0.000</td>\n",
       "    </tr>\n",
       "    <tr>\n",
       "      <td>1</td>\n",
       "      <td>2019-12-31 23:45:00</td>\n",
       "      <td>0.000</td>\n",
       "    </tr>\n",
       "    <tr>\n",
       "      <td>2</td>\n",
       "      <td>2020-01-01 00:00:00</td>\n",
       "      <td>0.000</td>\n",
       "    </tr>\n",
       "    <tr>\n",
       "      <td>3</td>\n",
       "      <td>2020-01-01 00:15:00</td>\n",
       "      <td>0.000</td>\n",
       "    </tr>\n",
       "    <tr>\n",
       "      <td>4</td>\n",
       "      <td>2020-01-01 00:30:00</td>\n",
       "      <td>0.000</td>\n",
       "    </tr>\n",
       "    <tr>\n",
       "      <td>...</td>\n",
       "      <td>...</td>\n",
       "      <td>...</td>\n",
       "    </tr>\n",
       "    <tr>\n",
       "      <td>284</td>\n",
       "      <td>2020-01-03 22:30:00</td>\n",
       "      <td>23.121</td>\n",
       "    </tr>\n",
       "    <tr>\n",
       "      <td>285</td>\n",
       "      <td>2020-01-03 22:45:00</td>\n",
       "      <td>23.218</td>\n",
       "    </tr>\n",
       "    <tr>\n",
       "      <td>286</td>\n",
       "      <td>2020-01-03 23:00:00</td>\n",
       "      <td>23.773</td>\n",
       "    </tr>\n",
       "    <tr>\n",
       "      <td>287</td>\n",
       "      <td>2020-01-03 23:15:00</td>\n",
       "      <td>23.824</td>\n",
       "    </tr>\n",
       "    <tr>\n",
       "      <td>288</td>\n",
       "      <td>2020-01-03 23:30:00</td>\n",
       "      <td>23.868</td>\n",
       "    </tr>\n",
       "  </tbody>\n",
       "</table>\n",
       "<p>289 rows × 2 columns</p>\n",
       "</div>"
      ],
      "text/plain": [
       "                    Time       C\n",
       "0    2019-12-31 23:30:00   0.000\n",
       "1    2019-12-31 23:45:00   0.000\n",
       "2    2020-01-01 00:00:00   0.000\n",
       "3    2020-01-01 00:15:00   0.000\n",
       "4    2020-01-01 00:30:00   0.000\n",
       "..                   ...     ...\n",
       "284  2020-01-03 22:30:00  23.121\n",
       "285  2020-01-03 22:45:00  23.218\n",
       "286  2020-01-03 23:00:00  23.773\n",
       "287  2020-01-03 23:15:00  23.824\n",
       "288  2020-01-03 23:30:00  23.868\n",
       "\n",
       "[289 rows x 2 columns]"
      ]
     },
     "execution_count": 18,
     "metadata": {},
     "output_type": "execute_result"
    }
   ],
   "source": [
    "rain_C_df = get_rain_df('/home/hasitha/PycharmProjects/DSS-Framework/output/rain/colombo07/fcst_C_colombo07.csv','C')\n",
    "rain_C_df"
   ]
  },
  {
   "cell_type": "code",
   "execution_count": 19,
   "metadata": {},
   "outputs": [
    {
     "data": {
      "text/html": [
       "<div>\n",
       "<style scoped>\n",
       "    .dataframe tbody tr th:only-of-type {\n",
       "        vertical-align: middle;\n",
       "    }\n",
       "\n",
       "    .dataframe tbody tr th {\n",
       "        vertical-align: top;\n",
       "    }\n",
       "\n",
       "    .dataframe thead th {\n",
       "        text-align: right;\n",
       "    }\n",
       "</style>\n",
       "<table border=\"1\" class=\"dataframe\">\n",
       "  <thead>\n",
       "    <tr style=\"text-align: right;\">\n",
       "      <th></th>\n",
       "      <th>Time</th>\n",
       "      <th>E</th>\n",
       "    </tr>\n",
       "  </thead>\n",
       "  <tbody>\n",
       "    <tr>\n",
       "      <td>0</td>\n",
       "      <td>2019-12-31 23:30:00</td>\n",
       "      <td>0.000</td>\n",
       "    </tr>\n",
       "    <tr>\n",
       "      <td>1</td>\n",
       "      <td>2019-12-31 23:45:00</td>\n",
       "      <td>0.000</td>\n",
       "    </tr>\n",
       "    <tr>\n",
       "      <td>2</td>\n",
       "      <td>2020-01-01 00:00:00</td>\n",
       "      <td>0.000</td>\n",
       "    </tr>\n",
       "    <tr>\n",
       "      <td>3</td>\n",
       "      <td>2020-01-01 00:15:00</td>\n",
       "      <td>0.000</td>\n",
       "    </tr>\n",
       "    <tr>\n",
       "      <td>4</td>\n",
       "      <td>2020-01-01 00:30:00</td>\n",
       "      <td>0.000</td>\n",
       "    </tr>\n",
       "    <tr>\n",
       "      <td>...</td>\n",
       "      <td>...</td>\n",
       "      <td>...</td>\n",
       "    </tr>\n",
       "    <tr>\n",
       "      <td>284</td>\n",
       "      <td>2020-01-03 22:30:00</td>\n",
       "      <td>14.533</td>\n",
       "    </tr>\n",
       "    <tr>\n",
       "      <td>285</td>\n",
       "      <td>2020-01-03 22:45:00</td>\n",
       "      <td>14.533</td>\n",
       "    </tr>\n",
       "    <tr>\n",
       "      <td>286</td>\n",
       "      <td>2020-01-03 23:00:00</td>\n",
       "      <td>14.533</td>\n",
       "    </tr>\n",
       "    <tr>\n",
       "      <td>287</td>\n",
       "      <td>2020-01-03 23:15:00</td>\n",
       "      <td>14.533</td>\n",
       "    </tr>\n",
       "    <tr>\n",
       "      <td>288</td>\n",
       "      <td>2020-01-03 23:30:00</td>\n",
       "      <td>14.533</td>\n",
       "    </tr>\n",
       "  </tbody>\n",
       "</table>\n",
       "<p>289 rows × 2 columns</p>\n",
       "</div>"
      ],
      "text/plain": [
       "                    Time       E\n",
       "0    2019-12-31 23:30:00   0.000\n",
       "1    2019-12-31 23:45:00   0.000\n",
       "2    2020-01-01 00:00:00   0.000\n",
       "3    2020-01-01 00:15:00   0.000\n",
       "4    2020-01-01 00:30:00   0.000\n",
       "..                   ...     ...\n",
       "284  2020-01-03 22:30:00  14.533\n",
       "285  2020-01-03 22:45:00  14.533\n",
       "286  2020-01-03 23:00:00  14.533\n",
       "287  2020-01-03 23:15:00  14.533\n",
       "288  2020-01-03 23:30:00  14.533\n",
       "\n",
       "[289 rows x 2 columns]"
      ]
     },
     "execution_count": 19,
     "metadata": {},
     "output_type": "execute_result"
    }
   ],
   "source": [
    "rain_E_df = get_rain_df('/home/hasitha/PycharmProjects/DSS-Framework/output/rain/colombo07/fcst_E_colombo07.csv','E')\n",
    "rain_E_df"
   ]
  },
  {
   "cell_type": "code",
   "execution_count": 20,
   "metadata": {},
   "outputs": [
    {
     "data": {
      "text/html": [
       "<div>\n",
       "<style scoped>\n",
       "    .dataframe tbody tr th:only-of-type {\n",
       "        vertical-align: middle;\n",
       "    }\n",
       "\n",
       "    .dataframe tbody tr th {\n",
       "        vertical-align: top;\n",
       "    }\n",
       "\n",
       "    .dataframe thead th {\n",
       "        text-align: right;\n",
       "    }\n",
       "</style>\n",
       "<table border=\"1\" class=\"dataframe\">\n",
       "  <thead>\n",
       "    <tr style=\"text-align: right;\">\n",
       "      <th></th>\n",
       "      <th>Time</th>\n",
       "      <th>SE</th>\n",
       "    </tr>\n",
       "  </thead>\n",
       "  <tbody>\n",
       "    <tr>\n",
       "      <td>0</td>\n",
       "      <td>2019-12-31 23:30:00</td>\n",
       "      <td>0.00</td>\n",
       "    </tr>\n",
       "    <tr>\n",
       "      <td>1</td>\n",
       "      <td>2019-12-31 23:45:00</td>\n",
       "      <td>0.00</td>\n",
       "    </tr>\n",
       "    <tr>\n",
       "      <td>2</td>\n",
       "      <td>2020-01-01 00:00:00</td>\n",
       "      <td>0.00</td>\n",
       "    </tr>\n",
       "    <tr>\n",
       "      <td>3</td>\n",
       "      <td>2020-01-01 00:15:00</td>\n",
       "      <td>0.00</td>\n",
       "    </tr>\n",
       "    <tr>\n",
       "      <td>4</td>\n",
       "      <td>2020-01-01 00:30:00</td>\n",
       "      <td>0.00</td>\n",
       "    </tr>\n",
       "    <tr>\n",
       "      <td>...</td>\n",
       "      <td>...</td>\n",
       "      <td>...</td>\n",
       "    </tr>\n",
       "    <tr>\n",
       "      <td>284</td>\n",
       "      <td>2020-01-03 22:30:00</td>\n",
       "      <td>2.87</td>\n",
       "    </tr>\n",
       "    <tr>\n",
       "      <td>285</td>\n",
       "      <td>2020-01-03 22:45:00</td>\n",
       "      <td>2.87</td>\n",
       "    </tr>\n",
       "    <tr>\n",
       "      <td>286</td>\n",
       "      <td>2020-01-03 23:00:00</td>\n",
       "      <td>2.87</td>\n",
       "    </tr>\n",
       "    <tr>\n",
       "      <td>287</td>\n",
       "      <td>2020-01-03 23:15:00</td>\n",
       "      <td>2.87</td>\n",
       "    </tr>\n",
       "    <tr>\n",
       "      <td>288</td>\n",
       "      <td>2020-01-03 23:30:00</td>\n",
       "      <td>2.87</td>\n",
       "    </tr>\n",
       "  </tbody>\n",
       "</table>\n",
       "<p>289 rows × 2 columns</p>\n",
       "</div>"
      ],
      "text/plain": [
       "                    Time    SE\n",
       "0    2019-12-31 23:30:00  0.00\n",
       "1    2019-12-31 23:45:00  0.00\n",
       "2    2020-01-01 00:00:00  0.00\n",
       "3    2020-01-01 00:15:00  0.00\n",
       "4    2020-01-01 00:30:00  0.00\n",
       "..                   ...   ...\n",
       "284  2020-01-03 22:30:00  2.87\n",
       "285  2020-01-03 22:45:00  2.87\n",
       "286  2020-01-03 23:00:00  2.87\n",
       "287  2020-01-03 23:15:00  2.87\n",
       "288  2020-01-03 23:30:00  2.87\n",
       "\n",
       "[289 rows x 2 columns]"
      ]
     },
     "execution_count": 20,
     "metadata": {},
     "output_type": "execute_result"
    }
   ],
   "source": [
    "rain_SE_df = get_rain_df('/home/hasitha/PycharmProjects/DSS-Framework/output/rain/colombo07/fcst_SE_colombo07.csv','SE')\n",
    "rain_SE_df"
   ]
  },
  {
   "cell_type": "code",
   "execution_count": 21,
   "metadata": {},
   "outputs": [
    {
     "data": {
      "text/html": [
       "<div>\n",
       "<style scoped>\n",
       "    .dataframe tbody tr th:only-of-type {\n",
       "        vertical-align: middle;\n",
       "    }\n",
       "\n",
       "    .dataframe tbody tr th {\n",
       "        vertical-align: top;\n",
       "    }\n",
       "\n",
       "    .dataframe thead th {\n",
       "        text-align: right;\n",
       "    }\n",
       "</style>\n",
       "<table border=\"1\" class=\"dataframe\">\n",
       "  <thead>\n",
       "    <tr style=\"text-align: right;\">\n",
       "      <th></th>\n",
       "      <th>Time</th>\n",
       "      <th>Observed</th>\n",
       "    </tr>\n",
       "  </thead>\n",
       "  <tbody>\n",
       "    <tr>\n",
       "      <td>0</td>\n",
       "      <td>2019-12-31 23:30:00</td>\n",
       "      <td>0.0</td>\n",
       "    </tr>\n",
       "    <tr>\n",
       "      <td>1</td>\n",
       "      <td>2019-12-31 23:45:00</td>\n",
       "      <td>0.0</td>\n",
       "    </tr>\n",
       "    <tr>\n",
       "      <td>2</td>\n",
       "      <td>2020-01-01 00:00:00</td>\n",
       "      <td>0.0</td>\n",
       "    </tr>\n",
       "    <tr>\n",
       "      <td>3</td>\n",
       "      <td>2020-01-01 00:15:00</td>\n",
       "      <td>0.0</td>\n",
       "    </tr>\n",
       "    <tr>\n",
       "      <td>4</td>\n",
       "      <td>2020-01-01 00:30:00</td>\n",
       "      <td>0.0</td>\n",
       "    </tr>\n",
       "    <tr>\n",
       "      <td>...</td>\n",
       "      <td>...</td>\n",
       "      <td>...</td>\n",
       "    </tr>\n",
       "    <tr>\n",
       "      <td>284</td>\n",
       "      <td>2020-01-03 22:30:00</td>\n",
       "      <td>110.4</td>\n",
       "    </tr>\n",
       "    <tr>\n",
       "      <td>285</td>\n",
       "      <td>2020-01-03 22:45:00</td>\n",
       "      <td>110.4</td>\n",
       "    </tr>\n",
       "    <tr>\n",
       "      <td>286</td>\n",
       "      <td>2020-01-03 23:00:00</td>\n",
       "      <td>110.4</td>\n",
       "    </tr>\n",
       "    <tr>\n",
       "      <td>287</td>\n",
       "      <td>2020-01-03 23:15:00</td>\n",
       "      <td>110.4</td>\n",
       "    </tr>\n",
       "    <tr>\n",
       "      <td>288</td>\n",
       "      <td>2020-01-03 23:30:00</td>\n",
       "      <td>110.4</td>\n",
       "    </tr>\n",
       "  </tbody>\n",
       "</table>\n",
       "<p>289 rows × 2 columns</p>\n",
       "</div>"
      ],
      "text/plain": [
       "                    Time  Observed\n",
       "0    2019-12-31 23:30:00       0.0\n",
       "1    2019-12-31 23:45:00       0.0\n",
       "2    2020-01-01 00:00:00       0.0\n",
       "3    2020-01-01 00:15:00       0.0\n",
       "4    2020-01-01 00:30:00       0.0\n",
       "..                   ...       ...\n",
       "284  2020-01-03 22:30:00     110.4\n",
       "285  2020-01-03 22:45:00     110.4\n",
       "286  2020-01-03 23:00:00     110.4\n",
       "287  2020-01-03 23:15:00     110.4\n",
       "288  2020-01-03 23:30:00     110.4\n",
       "\n",
       "[289 rows x 2 columns]"
      ]
     },
     "execution_count": 21,
     "metadata": {},
     "output_type": "execute_result"
    }
   ],
   "source": [
    "rain_obs_df = get_rain_df('/home/hasitha/PycharmProjects/DSS-Framework/output/rain/colombo07/obs_colombo07.csv','Observed')\n",
    "rain_obs_df"
   ]
  },
  {
   "cell_type": "code",
   "execution_count": 153,
   "metadata": {},
   "outputs": [
    {
     "data": {
      "text/html": [
       "<div>\n",
       "<style scoped>\n",
       "    .dataframe tbody tr th:only-of-type {\n",
       "        vertical-align: middle;\n",
       "    }\n",
       "\n",
       "    .dataframe tbody tr th {\n",
       "        vertical-align: top;\n",
       "    }\n",
       "\n",
       "    .dataframe thead th {\n",
       "        text-align: right;\n",
       "    }\n",
       "</style>\n",
       "<table border=\"1\" class=\"dataframe\">\n",
       "  <thead>\n",
       "    <tr style=\"text-align: right;\">\n",
       "      <th></th>\n",
       "      <th>Time</th>\n",
       "      <th>A</th>\n",
       "      <th>C</th>\n",
       "      <th>E</th>\n",
       "      <th>SE</th>\n",
       "      <th>Observed</th>\n",
       "    </tr>\n",
       "  </thead>\n",
       "  <tbody>\n",
       "    <tr>\n",
       "      <td>0</td>\n",
       "      <td>2019-12-31 23:30:00</td>\n",
       "      <td>0.000</td>\n",
       "      <td>0.000</td>\n",
       "      <td>0.000</td>\n",
       "      <td>0.00</td>\n",
       "      <td>0.0</td>\n",
       "    </tr>\n",
       "    <tr>\n",
       "      <td>1</td>\n",
       "      <td>2019-12-31 23:45:00</td>\n",
       "      <td>0.000</td>\n",
       "      <td>0.000</td>\n",
       "      <td>0.000</td>\n",
       "      <td>0.00</td>\n",
       "      <td>0.0</td>\n",
       "    </tr>\n",
       "    <tr>\n",
       "      <td>2</td>\n",
       "      <td>2020-01-01 00:00:00</td>\n",
       "      <td>0.000</td>\n",
       "      <td>0.000</td>\n",
       "      <td>0.000</td>\n",
       "      <td>0.00</td>\n",
       "      <td>0.0</td>\n",
       "    </tr>\n",
       "    <tr>\n",
       "      <td>3</td>\n",
       "      <td>2020-01-01 00:15:00</td>\n",
       "      <td>0.000</td>\n",
       "      <td>0.000</td>\n",
       "      <td>0.000</td>\n",
       "      <td>0.00</td>\n",
       "      <td>0.0</td>\n",
       "    </tr>\n",
       "    <tr>\n",
       "      <td>4</td>\n",
       "      <td>2020-01-01 00:30:00</td>\n",
       "      <td>0.000</td>\n",
       "      <td>0.000</td>\n",
       "      <td>0.000</td>\n",
       "      <td>0.00</td>\n",
       "      <td>0.0</td>\n",
       "    </tr>\n",
       "    <tr>\n",
       "      <td>...</td>\n",
       "      <td>...</td>\n",
       "      <td>...</td>\n",
       "      <td>...</td>\n",
       "      <td>...</td>\n",
       "      <td>...</td>\n",
       "      <td>...</td>\n",
       "    </tr>\n",
       "    <tr>\n",
       "      <td>284</td>\n",
       "      <td>2020-01-03 22:30:00</td>\n",
       "      <td>9.042</td>\n",
       "      <td>23.121</td>\n",
       "      <td>14.533</td>\n",
       "      <td>2.87</td>\n",
       "      <td>110.4</td>\n",
       "    </tr>\n",
       "    <tr>\n",
       "      <td>285</td>\n",
       "      <td>2020-01-03 22:45:00</td>\n",
       "      <td>9.042</td>\n",
       "      <td>23.218</td>\n",
       "      <td>14.533</td>\n",
       "      <td>2.87</td>\n",
       "      <td>110.4</td>\n",
       "    </tr>\n",
       "    <tr>\n",
       "      <td>286</td>\n",
       "      <td>2020-01-03 23:00:00</td>\n",
       "      <td>9.042</td>\n",
       "      <td>23.773</td>\n",
       "      <td>14.533</td>\n",
       "      <td>2.87</td>\n",
       "      <td>110.4</td>\n",
       "    </tr>\n",
       "    <tr>\n",
       "      <td>287</td>\n",
       "      <td>2020-01-03 23:15:00</td>\n",
       "      <td>9.042</td>\n",
       "      <td>23.824</td>\n",
       "      <td>14.533</td>\n",
       "      <td>2.87</td>\n",
       "      <td>110.4</td>\n",
       "    </tr>\n",
       "    <tr>\n",
       "      <td>288</td>\n",
       "      <td>2020-01-03 23:30:00</td>\n",
       "      <td>9.042</td>\n",
       "      <td>23.868</td>\n",
       "      <td>14.533</td>\n",
       "      <td>2.87</td>\n",
       "      <td>110.4</td>\n",
       "    </tr>\n",
       "  </tbody>\n",
       "</table>\n",
       "<p>289 rows × 6 columns</p>\n",
       "</div>"
      ],
      "text/plain": [
       "                    Time      A       C       E    SE  Observed\n",
       "0    2019-12-31 23:30:00  0.000   0.000   0.000  0.00       0.0\n",
       "1    2019-12-31 23:45:00  0.000   0.000   0.000  0.00       0.0\n",
       "2    2020-01-01 00:00:00  0.000   0.000   0.000  0.00       0.0\n",
       "3    2020-01-01 00:15:00  0.000   0.000   0.000  0.00       0.0\n",
       "4    2020-01-01 00:30:00  0.000   0.000   0.000  0.00       0.0\n",
       "..                   ...    ...     ...     ...   ...       ...\n",
       "284  2020-01-03 22:30:00  9.042  23.121  14.533  2.87     110.4\n",
       "285  2020-01-03 22:45:00  9.042  23.218  14.533  2.87     110.4\n",
       "286  2020-01-03 23:00:00  9.042  23.773  14.533  2.87     110.4\n",
       "287  2020-01-03 23:15:00  9.042  23.824  14.533  2.87     110.4\n",
       "288  2020-01-03 23:30:00  9.042  23.868  14.533  2.87     110.4\n",
       "\n",
       "[289 rows x 6 columns]"
      ]
     },
     "execution_count": 153,
     "metadata": {},
     "output_type": "execute_result"
    }
   ],
   "source": [
    "plot_df = reduce(lambda x,y: pd.merge(x,y, on='Time', how='outer'), [rain_A_df,rain_C_df,rain_E_df,rain_SE_df,rain_obs_df])\n",
    "plot_df"
   ]
  },
  {
   "cell_type": "code",
   "execution_count": 23,
   "metadata": {},
   "outputs": [
    {
     "data": {
      "text/plain": [
       "<matplotlib.axes._subplots.AxesSubplot at 0x7f071f1450b8>"
      ]
     },
     "execution_count": 23,
     "metadata": {},
     "output_type": "execute_result"
    },
    {
     "data": {
      "image/png": "[encoded data removed]",
      "text/plain": [
       "<Figure size 1080x504 with 1 Axes>"
      ]
     },
     "metadata": {
      "needs_background": "light"
     },
     "output_type": "display_data"
    }
   ],
   "source": [
    "rain_A_df = get_rain_df('/home/hasitha/PycharmProjects/DSS-Framework/output/rain/colombo07/fcst_A_colombo07.csv','A')\n",
    "rain_C_df = get_rain_df('/home/hasitha/PycharmProjects/DSS-Framework/output/rain/colombo07/fcst_C_colombo07.csv','C')\n",
    "rain_E_df = get_rain_df('/home/hasitha/PycharmProjects/DSS-Framework/output/rain/colombo07/fcst_E_colombo07.csv','E')\n",
    "rain_SE_df = get_rain_df('/home/hasitha/PycharmProjects/DSS-Framework/output/rain/colombo07/fcst_SE_colombo07.csv','SE')\n",
    "rain_obs_df = get_rain_df('/home/hasitha/PycharmProjects/DSS-Framework/output/rain/colombo07/obs_colombo07.csv','Observed')\n",
    "colombo07_plot_df = reduce(lambda x,y: pd.merge(x,y, on='Time', how='outer'), [rain_A_df,rain_C_df,rain_E_df,rain_SE_df,rain_obs_df])\n",
    "colombo07_plot_df.plot(x='Time', y=['A','C','E','SE','Observed'], kind='line', figsize=(15,7), grid=True)"
   ]
  },
  {
   "cell_type": "code",
   "execution_count": 24,
   "metadata": {},
   "outputs": [
    {
     "data": {
      "text/plain": [
       "<matplotlib.axes._subplots.AxesSubplot at 0x7f071f1c5390>"
      ]
     },
     "execution_count": 24,
     "metadata": {},
     "output_type": "execute_result"
    },
    {
     "data": {
      "image/png": "[encoded data removed]",
      "text/plain": [
       "<Figure size 1080x504 with 1 Axes>"
      ]
     },
     "metadata": {
      "needs_background": "light"
     },
     "output_type": "display_data"
    }
   ],
   "source": [
    "rain_A_df = get_rain_df('/home/hasitha/PycharmProjects/DSS-Framework/output/rain/battaramulla/fcst_A_battaramulla.csv','A')\n",
    "rain_C_df = get_rain_df('/home/hasitha/PycharmProjects/DSS-Framework/output/rain/battaramulla/fcst_C_battaramulla.csv','C')\n",
    "rain_E_df = get_rain_df('/home/hasitha/PycharmProjects/DSS-Framework/output/rain/battaramulla/fcst_E_battaramulla.csv','E')\n",
    "rain_SE_df = get_rain_df('/home/hasitha/PycharmProjects/DSS-Framework/output/rain/battaramulla/fcst_SE_battaramulla.csv','SE')\n",
    "rain_obs_df = get_rain_df('/home/hasitha/PycharmProjects/DSS-Framework/output/rain/battaramulla/obs_battaramulla.csv','Observed')\n",
    "battaramulla_plot_df = reduce(lambda x,y: pd.merge(x,y, on='Time', how='outer'), [rain_A_df,rain_C_df,rain_E_df,rain_SE_df,rain_obs_df])\n",
    "battaramulla_plot_df.plot(x='Time', y=['A','C','E','SE','Observed'], kind='line', figsize=(15,7), grid=True)"
   ]
  },
  {
   "cell_type": "code",
   "execution_count": 25,
   "metadata": {},
   "outputs": [
    {
     "data": {
      "text/plain": [
       "<matplotlib.axes._subplots.AxesSubplot at 0x7f071f17ecf8>"
      ]
     },
     "execution_count": 25,
     "metadata": {},
     "output_type": "execute_result"
    },
    {
     "data": {
      "image/png": "[encoded data removed]",
      "text/plain": [
       "<Figure size 1080x504 with 1 Axes>"
      ]
     },
     "metadata": {
      "needs_background": "light"
     },
     "output_type": "display_data"
    }
   ],
   "source": [
    "rain_A_df = get_rain_df('/home/hasitha/PycharmProjects/DSS-Framework/output/rain/kaduwela/fcst_A_kaduwela.csv','A')\n",
    "rain_C_df = get_rain_df('/home/hasitha/PycharmProjects/DSS-Framework/output/rain/kaduwela/fcst_C_kaduwela.csv','C')\n",
    "rain_E_df = get_rain_df('/home/hasitha/PycharmProjects/DSS-Framework/output/rain/kaduwela/fcst_E_kaduwela.csv','E')\n",
    "rain_SE_df = get_rain_df('/home/hasitha/PycharmProjects/DSS-Framework/output/rain/kaduwela/fcst_SE_kaduwela.csv','SE')\n",
    "rain_obs_df = get_rain_df('/home/hasitha/PycharmProjects/DSS-Framework/output/rain/kaduwela/obs_kaduwela.csv','Observed')\n",
    "kaduwela_plot_df = reduce(lambda x,y: pd.merge(x,y, on='Time', how='outer'), [rain_A_df,rain_C_df,rain_E_df,rain_SE_df,rain_obs_df])\n",
    "kaduwela_plot_df.plot(x='Time', y=['A','C','E','SE','Observed'], kind='line', figsize=(15,7), grid=True)"
   ]
  },
  {
   "cell_type": "code",
   "execution_count": 26,
   "metadata": {},
   "outputs": [
    {
     "data": {
      "text/plain": [
       "<matplotlib.axes._subplots.AxesSubplot at 0x7f071f1df208>"
      ]
     },
     "execution_count": 26,
     "metadata": {},
     "output_type": "execute_result"
    },
    {
     "data": {
      "image/png": "[encoded data removed]",
      "text/plain": [
       "<Figure size 1080x504 with 1 Axes>"
      ]
     },
     "metadata": {
      "needs_background": "light"
     },
     "output_type": "display_data"
    }
   ],
   "source": [
    "rain_A_df = get_rain_df('/home/hasitha/PycharmProjects/DSS-Framework/output/rain/gonawala/fcst_A_gonawala.csv','A')\n",
    "rain_C_df = get_rain_df('/home/hasitha/PycharmProjects/DSS-Framework/output/rain/gonawala/fcst_C_gonawala.csv','C')\n",
    "rain_E_df = get_rain_df('/home/hasitha/PycharmProjects/DSS-Framework/output/rain/gonawala/fcst_E_gonawala.csv','E')\n",
    "rain_SE_df = get_rain_df('/home/hasitha/PycharmProjects/DSS-Framework/output/rain/gonawala/fcst_SE_gonawala.csv','SE')\n",
    "rain_obs_df = get_rain_df('/home/hasitha/PycharmProjects/DSS-Framework/output/rain/gonawala/obs_gonawala.csv','Observed')\n",
    "gonawala_plot_df = reduce(lambda x,y: pd.merge(x,y, on='Time', how='outer'), [rain_A_df,rain_C_df,rain_E_df,rain_SE_df,rain_obs_df])\n",
    "gonawala_plot_df.plot(x='Time', y=['A','C','E','SE','Observed'], kind='line', figsize=(15,7), grid=True)"
   ]
  },
  {
   "cell_type": "code",
   "execution_count": 7,
   "metadata": {},
   "outputs": [
    {
     "data": {
      "text/plain": [
       "Text(0,0.5,'Rainfall (mm)')"
      ]
     },
     "execution_count": 7,
     "metadata": {},
     "output_type": "execute_result"
    },
    {
     "data": {
      "image/png": "[encoded data removed]",
      "text/plain": [
       "<Figure size 864x432 with 1 Axes>"
      ]
     },
     "metadata": {
      "needs_background": "light"
     },
     "output_type": "display_data"
    }
   ],
   "source": [
    "rain_A_df = get_rain_df('/home/hasitha/PycharmProjects/DSS-Framework/output/rain/kotikawatta/fcst_A_kotikawatta.csv','A')\n",
    "rain_C_df = get_rain_df('/home/hasitha/PycharmProjects/DSS-Framework/output/rain/kotikawatta/fcst_C_kotikawatta.csv','C')\n",
    "rain_E_df = get_rain_df('/home/hasitha/PycharmProjects/DSS-Framework/output/rain/kotikawatta/fcst_E_kotikawatta.csv','E')\n",
    "rain_SE_df = get_rain_df('/home/hasitha/PycharmProjects/DSS-Framework/output/rain/kotikawatta/fcst_SE_kotikawatta.csv','SE')\n",
    "rain_obs_df = get_rain_df('/home/hasitha/PycharmProjects/DSS-Framework/output/rain/kotikawatta/obs_kotikawatta.csv','Observed')\n",
    "kotikawatta_plot_df = reduce(lambda x,y: pd.merge(x,y, on='Time', how='outer'), [rain_A_df,rain_C_df,rain_E_df,rain_SE_df,rain_obs_df])\n",
    "kotikawatta_plot_df.plot(x='Time', y=['A','C','E','SE','Observed'], kind='line', figsize=(12,6), grid=True).set_ylabel('Rainfall (mm)')"
   ]
  },
  {
   "cell_type": "markdown",
   "metadata": {},
   "source": [
    "##### "
   ]
  },
  {
   "cell_type": "code",
   "execution_count": 70,
   "metadata": {},
   "outputs": [
    {
     "data": {
      "text/plain": [
       "Text(0,0.5,'Rainfall(mm)')"
      ]
     },
     "execution_count": 70,
     "metadata": {},
     "output_type": "execute_result"
    },
    {
     "data": {
      "image/png": "[encoded data removed]",
      "text/plain": [
       "<Figure size 864x720 with 2 Axes>"
      ]
     },
     "metadata": {
      "needs_background": "light"
     },
     "output_type": "display_data"
    }
   ],
   "source": [
    "# fig, axes = plt.subplots(nrows=2, ncols=2, figsize=(20, 10))\n",
    "# kotikawatta_plot_df.plot(ax=axes[0,0],x='Time', y=['A','C','E','SE','Observed'], kind='line', grid=True)\n",
    "# gonawala_plot_df.plot(ax=axes[1,0], x='Time', y=['A','C','E','SE','Observed'], kind='line', grid=True)\n",
    "\n",
    "fig, axes = plt.subplots(nrows=2, ncols=1, figsize=(12, 10))\n",
    "kaduwela_plot_df.plot(ax=axes[0],x='Time', y=['A','C','E','SE','Observed'], kind='line', grid=True, title='Location 1 Rainfall Comparison').set_ylabel('Rainfall(mm)')\n",
    "gonawala_plot_df.plot(ax=axes[1], x='Time', y=['A','C','E','SE','Observed'], kind='line', grid=True, title='Location 2 Rainfall Comparison').set_ylabel('Rainfall(mm)')"
   ]
  },
  {
   "cell_type": "code",
   "execution_count": null,
   "metadata": {},
   "outputs": [],
   "source": []
  }
 ],
 "metadata": {
  "kernelspec": {
   "display_name": "Python 3",
   "language": "python",
   "name": "python3"
  },
  "language_info": {
   "codemirror_mode": {
    "name": "ipython",
    "version": 3
   },
   "file_extension": ".py",
   "mimetype": "text/x-python",
   "name": "python",
   "nbconvert_exporter": "python",
   "pygments_lexer": "ipython3",
   "version": "3.6.5"
  }
 },
 "nbformat": 4,
 "nbformat_minor": 2
}
