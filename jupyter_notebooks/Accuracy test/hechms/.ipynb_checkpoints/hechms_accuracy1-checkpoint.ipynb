{
 "cells": [
  {
   "cell_type": "code",
   "execution_count": 1,
   "metadata": {},
   "outputs": [],
   "source": [
    "import numpy as np\n",
    "import os\n",
    "from datetime import datetime, timedelta\n",
    "import pandas as pd\n",
    "import matplotlib.pyplot as plt\n",
    "from functools import reduce"
   ]
  },
  {
   "cell_type": "code",
   "execution_count": null,
   "metadata": {},
   "outputs": [],
   "source": [
    "hdc_file = '/home/hasitha/Desktop/Discharge/fcst_17.csv'\n",
    "hde_file = '/home/hasitha/Desktop/Discharge/fcst_25.csv'\n",
    "hlc_file = '/home/hasitha/Desktop/Discharge/fcst_27.csv'\n",
    "hle_file = '/home/hasitha/Desktop/Discharge/fcst_28.csv'\n",
    "obs_file = '/home/hasitha/Desktop/Discharge/dis_sf.csv'"
   ]
  },
  {
   "cell_type": "code",
   "execution_count": null,
   "metadata": {},
   "outputs": [],
   "source": [
    "def get_dis_val(df, time):\n",
    "    filtered_df = df[(df['time']==time)]\n",
    "    if not filtered_df.empty:\n",
    "        dis = filtered_df.iloc[0]['value']\n",
    "        return dis\n",
    "    else:\n",
    "        return 0.0"
   ]
  },
  {
   "cell_type": "code",
   "execution_count": 2,
   "metadata": {},
   "outputs": [],
   "source": [
    "def get_rain_df(data_file,ts_start,ts_end,step,model):\n",
    "    data_df = pd.read_csv(data_file)\n",
    "    time_series = []\n",
    "    rain = 0.0\n",
    "    start_time = datetime.strptime(start_time, '%Y-%m-%d %H:%M:%S')\n",
    "    end_time = datetime.strptime(end_time, '%Y-%m-%d %H:%M:%S')\n",
    "    time_step = start_time\n",
    "    while (time_step<= end_time):\n",
    "        value = float(get_dis_val(rain_df, timestamp))\n",
    "        time_series.append([timestamp, value])\n",
    "        time_step = time_step + timedelta(minutes=step)\n",
    "    formatted_df = pd.DataFrame(time_series, columns=['Time',model])\n",
    "    return formatted_rain_df"
   ]
  },
  {
   "cell_type": "code",
   "execution_count": null,
   "metadata": {},
   "outputs": [],
   "source": []
  }
 ],
 "metadata": {
  "kernelspec": {
   "display_name": "Python 3",
   "language": "python",
   "name": "python3"
  },
  "language_info": {
   "codemirror_mode": {
    "name": "ipython",
    "version": 3
   },
   "file_extension": ".py",
   "mimetype": "text/x-python",
   "name": "python",
   "nbconvert_exporter": "python",
   "pygments_lexer": "ipython3",
   "version": "3.6.5"
  }
 },
 "nbformat": 4,
 "nbformat_minor": 2
}
