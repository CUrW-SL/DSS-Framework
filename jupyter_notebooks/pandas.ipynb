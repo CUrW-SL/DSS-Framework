{
 "cells": [
  {
   "cell_type": "code",
   "execution_count": 1,
   "metadata": {},
   "outputs": [],
   "source": [
    "import pandas as pd\n",
    "from datetime import datetime"
   ]
  },
  {
   "cell_type": "code",
   "execution_count": null,
   "metadata": {},
   "outputs": [],
   "source": [
    "current_date = datetime.now()\n",
    "run_date = '2019-11-26 04:00:00'\n",
    "run_date = datetime.strptime(run_date, '%Y-%m-%d %H:%M:%S')\n",
    "print('[current_date, run_date] : ', [current_date, run_date])"
   ]
  },
  {
   "cell_type": "code",
   "execution_count": 8,
   "metadata": {},
   "outputs": [],
   "source": [
    "def validate_workflow(current_date, run_date):    \n",
    "    if current_date >= run_date:\n",
    "        print('validate_workflow|True')\n",
    "        return True\n",
    "    else:\n",
    "        print('validate_workflow|False')\n",
    "        return False"
   ]
  },
  {
   "cell_type": "code",
   "execution_count": 9,
   "metadata": {},
   "outputs": [
    {
     "name": "stdout",
     "output_type": "stream",
     "text": [
      "validate_workflow|False\n"
     ]
    },
    {
     "data": {
      "text/plain": [
       "False"
      ]
     },
     "execution_count": 9,
     "metadata": {},
     "output_type": "execute_result"
    }
   ],
   "source": [
    "validate_workflow(current_date, run_date)"
   ]
  },
  {
   "cell_type": "code",
   "execution_count": 2,
   "metadata": {},
   "outputs": [],
   "source": [
    "from datetime import datetime\n",
    "import croniter"
   ]
  },
  {
   "cell_type": "code",
   "execution_count": 3,
   "metadata": {},
   "outputs": [
    {
     "name": "stdout",
     "output_type": "stream",
     "text": [
      "run_date :  2019-12-05 00:32:00\n"
     ]
    }
   ],
   "source": [
    "[schedule, schedule_date] = ['32 00 * * *', datetime(2019, 12, 5, 0, 30)]\n",
    "cron = croniter.croniter(schedule, schedule_date)\n",
    "run_date = cron.get_next(datetime)\n",
    "print('run_date : ', run_date)"
   ]
  },
  {
   "cell_type": "code",
   "execution_count": 4,
   "metadata": {},
   "outputs": [],
   "source": [
    "import cronex"
   ]
  },
  {
   "cell_type": "code",
   "execution_count": 5,
   "metadata": {},
   "outputs": [
    {
     "data": {
      "text/plain": [
       "False"
      ]
     },
     "execution_count": 5,
     "metadata": {},
     "output_type": "execute_result"
    }
   ],
   "source": [
    "job = cronex.CronExpression(\"32 00 * * *\")\n",
    "job.check_trigger((2019, 12, 5, 0, 31))"
   ]
  },
  {
   "cell_type": "code",
   "execution_count": 6,
   "metadata": {},
   "outputs": [
    {
     "name": "stdout",
     "output_type": "stream",
     "text": [
      "2019-12-05 00:32:00\n"
     ]
    }
   ],
   "source": [
    "import croniter\n",
    "cron = croniter.croniter('32 00 * * *', datetime(2019, 12, 5, 0, 25))\n",
    "print(cron.get_next(datetime))"
   ]
  },
  {
   "cell_type": "code",
   "execution_count": 7,
   "metadata": {},
   "outputs": [
    {
     "name": "stdout",
     "output_type": "stream",
     "text": [
      "2019-12-06 00:32:00\n"
     ]
    }
   ],
   "source": [
    "cron = croniter.croniter('32 00 * * *', datetime(2019, 12, 5, 0, 35))\n",
    "print(cron.get_next(datetime))"
   ]
  },
  {
   "cell_type": "code",
   "execution_count": 9,
   "metadata": {},
   "outputs": [
    {
     "name": "stdout",
     "output_type": "stream",
     "text": [
      "2019-12-07 00:32:00\n"
     ]
    }
   ],
   "source": [
    "cron = croniter.croniter('32 00 * * *', datetime.strptime('2019-12-06 00:32:00', '%Y-%m-%d %H:%M:%S'))\n",
    "print(cron.get_next(datetime))"
   ]
  },
  {
   "cell_type": "code",
   "execution_count": 37,
   "metadata": {},
   "outputs": [],
   "source": [
    "def get_iteration_gap(cron_exp):\n",
    "    cron = croniter.croniter(cron_exp, datetime.now())\n",
    "    date1 = cron.get_next(datetime)\n",
    "    date2 = cron.get_next(datetime)\n",
    "    print([date1, date2])\n",
    "    difference = date2 - date1\n",
    "    print(difference.days)\n",
    "    print(difference.seconds)\n",
    "    #now = int(time.time()) # epoch seconds\n",
    "    diff = difference.total_seconds() # some time in the past\n",
    "    d = divmod(diff,86400)  # days\n",
    "    h = divmod(d[1],3600)  # hours\n",
    "    m = divmod(h[1],60)  # minutes\n",
    "    s = m[1]  # seconds\n",
    "    print([d[0],h[0],m[0],s])"
   ]
  },
  {
   "cell_type": "code",
   "execution_count": 42,
   "metadata": {},
   "outputs": [
    {
     "name": "stdout",
     "output_type": "stream",
     "text": [
      "[datetime.datetime(2020, 1, 6, 10, 10), datetime.datetime(2020, 1, 6, 10, 20)]\n",
      "0\n",
      "600\n",
      "[0.0, 0.0, 10.0, 0.0]\n"
     ]
    }
   ],
   "source": [
    "get_iteration_gap('*/10 * * * *')"
   ]
  },
  {
   "cell_type": "code",
   "execution_count": null,
   "metadata": {},
   "outputs": [],
   "source": []
  }
 ],
 "metadata": {
  "kernelspec": {
   "display_name": "Python 3",
   "language": "python",
   "name": "python3"
  },
  "language_info": {
   "codemirror_mode": {
    "name": "ipython",
    "version": 3
   },
   "file_extension": ".py",
   "mimetype": "text/x-python",
   "name": "python",
   "nbconvert_exporter": "python",
   "pygments_lexer": "ipython3",
   "version": "3.6.5"
  }
 },
 "nbformat": 4,
 "nbformat_minor": 2
}
