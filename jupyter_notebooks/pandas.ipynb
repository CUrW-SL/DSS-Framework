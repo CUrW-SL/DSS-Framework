{
 "cells": [
  {
   "cell_type": "code",
   "execution_count": 1,
   "metadata": {},
   "outputs": [],
   "source": [
    "import pandas as pd\n",
    "from datetime import datetime"
   ]
  },
  {
   "cell_type": "code",
   "execution_count": null,
   "metadata": {},
   "outputs": [],
   "source": [
    "current_date = datetime.now()\n",
    "run_date = '2019-11-26 04:00:00'\n",
    "run_date = datetime.strptime(run_date, '%Y-%m-%d %H:%M:%S')\n",
    "print('[current_date, run_date] : ', [current_date, run_date])"
   ]
  },
  {
   "cell_type": "code",
   "execution_count": 8,
   "metadata": {},
   "outputs": [],
   "source": [
    "def validate_workflow(current_date, run_date):    \n",
    "    if current_date >= run_date:\n",
    "        print('validate_workflow|True')\n",
    "        return True\n",
    "    else:\n",
    "        print('validate_workflow|False')\n",
    "        return False"
   ]
  },
  {
   "cell_type": "code",
   "execution_count": 9,
   "metadata": {},
   "outputs": [
    {
     "name": "stdout",
     "output_type": "stream",
     "text": [
      "validate_workflow|False\n"
     ]
    },
    {
     "data": {
      "text/plain": [
       "False"
      ]
     },
     "execution_count": 9,
     "metadata": {},
     "output_type": "execute_result"
    }
   ],
   "source": [
    "validate_workflow(current_date, run_date)"
   ]
  },
  {
   "cell_type": "code",
   "execution_count": 2,
   "metadata": {},
   "outputs": [],
   "source": [
    "from datetime import datetime\n",
    "import croniter"
   ]
  },
  {
   "cell_type": "code",
   "execution_count": 3,
   "metadata": {},
   "outputs": [
    {
     "name": "stdout",
     "output_type": "stream",
     "text": [
      "run_date :  2019-12-05 00:32:00\n"
     ]
    }
   ],
   "source": [
    "[schedule, schedule_date] = ['32 00 * * *', datetime(2019, 12, 5, 0, 30)]\n",
    "cron = croniter.croniter(schedule, schedule_date)\n",
    "run_date = cron.get_next(datetime)\n",
    "print('run_date : ', run_date)"
   ]
  },
  {
   "cell_type": "code",
   "execution_count": 4,
   "metadata": {},
   "outputs": [],
   "source": [
    "import cronex"
   ]
  },
  {
   "cell_type": "code",
   "execution_count": 5,
   "metadata": {},
   "outputs": [
    {
     "data": {
      "text/plain": [
       "False"
      ]
     },
     "execution_count": 5,
     "metadata": {},
     "output_type": "execute_result"
    }
   ],
   "source": [
    "job = cronex.CronExpression(\"32 00 * * *\")\n",
    "job.check_trigger((2019, 12, 5, 0, 31))"
   ]
  },
  {
   "cell_type": "code",
   "execution_count": 6,
   "metadata": {},
   "outputs": [
    {
     "name": "stdout",
     "output_type": "stream",
     "text": [
      "2019-12-05 00:32:00\n"
     ]
    }
   ],
   "source": [
    "import croniter\n",
    "cron = croniter.croniter('32 00 * * *', datetime(2019, 12, 5, 0, 25))\n",
    "print(cron.get_next(datetime))"
   ]
  },
  {
   "cell_type": "code",
   "execution_count": 7,
   "metadata": {},
   "outputs": [
    {
     "name": "stdout",
     "output_type": "stream",
     "text": [
      "2019-12-06 00:32:00\n"
     ]
    }
   ],
   "source": [
    "cron = croniter.croniter('32 00 * * *', datetime(2019, 12, 5, 0, 35))\n",
    "print(cron.get_next(datetime))"
   ]
  },
  {
   "cell_type": "code",
   "execution_count": 9,
   "metadata": {},
   "outputs": [
    {
     "name": "stdout",
     "output_type": "stream",
     "text": [
      "2019-12-07 00:32:00\n"
     ]
    }
   ],
   "source": [
    "cron = croniter.croniter('32 00 * * *', datetime.strptime('2019-12-06 00:32:00', '%Y-%m-%d %H:%M:%S'))\n",
    "print(cron.get_next(datetime))"
   ]
  },
  {
   "cell_type": "code",
   "execution_count": 37,
   "metadata": {},
   "outputs": [],
   "source": [
    "def get_iteration_gap(cron_exp):\n",
    "    cron = croniter.croniter(cron_exp, datetime.now())\n",
    "    date1 = cron.get_next(datetime)\n",
    "    date2 = cron.get_next(datetime)\n",
    "    print([date1, date2])\n",
    "    difference = date2 - date1\n",
    "    print(difference.days)\n",
    "    print(difference.seconds)\n",
    "    #now = int(time.time()) # epoch seconds\n",
    "    diff = difference.total_seconds() # some time in the past\n",
    "    d = divmod(diff,86400)  # days\n",
    "    h = divmod(d[1],3600)  # hours\n",
    "    m = divmod(h[1],60)  # minutes\n",
    "    s = m[1]  # seconds\n",
    "    print([d[0],h[0],m[0],s])"
   ]
  },
  {
   "cell_type": "code",
   "execution_count": 42,
   "metadata": {},
   "outputs": [
    {
     "name": "stdout",
     "output_type": "stream",
     "text": [
      "[datetime.datetime(2020, 1, 6, 10, 10), datetime.datetime(2020, 1, 6, 10, 20)]\n",
      "0\n",
      "600\n",
      "[0.0, 0.0, 10.0, 0.0]\n"
     ]
    }
   ],
   "source": [
    "get_iteration_gap('*/10 * * * *')"
   ]
  },
  {
   "cell_type": "code",
   "execution_count": 9,
   "metadata": {},
   "outputs": [
    {
     "data": {
      "text/html": [
       "<div>\n",
       "<style scoped>\n",
       "    .dataframe tbody tr th:only-of-type {\n",
       "        vertical-align: middle;\n",
       "    }\n",
       "\n",
       "    .dataframe tbody tr th {\n",
       "        vertical-align: top;\n",
       "    }\n",
       "\n",
       "    .dataframe thead th {\n",
       "        text-align: right;\n",
       "    }\n",
       "</style>\n",
       "<table border=\"1\" class=\"dataframe\">\n",
       "  <thead>\n",
       "    <tr style=\"text-align: right;\">\n",
       "      <th></th>\n",
       "      <th>Name</th>\n",
       "      <th>Age</th>\n",
       "    </tr>\n",
       "  </thead>\n",
       "  <tbody>\n",
       "    <tr>\n",
       "      <td>0</td>\n",
       "      <td>tom</td>\n",
       "      <td>10</td>\n",
       "    </tr>\n",
       "    <tr>\n",
       "      <td>1</td>\n",
       "      <td>nick</td>\n",
       "      <td>15</td>\n",
       "    </tr>\n",
       "    <tr>\n",
       "      <td>2</td>\n",
       "      <td>juli</td>\n",
       "      <td>14</td>\n",
       "    </tr>\n",
       "  </tbody>\n",
       "</table>\n",
       "</div>"
      ],
      "text/plain": [
       "   Name  Age\n",
       "0   tom   10\n",
       "1  nick   15\n",
       "2  juli   14"
      ]
     },
     "execution_count": 9,
     "metadata": {},
     "output_type": "execute_result"
    }
   ],
   "source": [
    "import pandas as pd \n",
    "  \n",
    "# initialize list of lists \n",
    "data_values = [['tom', 10], ['nick', 15], ['juli', 14]] \n",
    "  \n",
    "# Create the pandas DataFrame \n",
    "df = pd.DataFrame(data=data_values, columns = ['Name', 'Age']) \n",
    "df"
   ]
  },
  {
   "cell_type": "code",
   "execution_count": 16,
   "metadata": {},
   "outputs": [
    {
     "name": "stdout",
     "output_type": "stream",
     "text": [
      "3\n"
     ]
    }
   ],
   "source": [
    "(rows, columns) = df.shape\n",
    "print(df.shape[0])"
   ]
  },
  {
   "cell_type": "code",
   "execution_count": 18,
   "metadata": {},
   "outputs": [
    {
     "data": {
      "text/plain": [
       "False"
      ]
     },
     "execution_count": 18,
     "metadata": {},
     "output_type": "execute_result"
    }
   ],
   "source": [
    "a = True\n",
    "b = True\n",
    "c = False\n",
    "a and c"
   ]
  },
  {
   "cell_type": "code",
   "execution_count": 30,
   "metadata": {},
   "outputs": [
    {
     "name": "stdout",
     "output_type": "stream",
     "text": [
      "False\n",
      "True\n"
     ]
    }
   ],
   "source": [
    "param1 = 20\n",
    "param1 < 10\n",
    "print(eval('10 == 1'))\n",
    "print(eval('True or False'))"
   ]
  },
  {
   "cell_type": "code",
   "execution_count": 40,
   "metadata": {},
   "outputs": [
    {
     "name": "stdout",
     "output_type": "stream",
     "text": [
      "(a > 1.2) and ((b == 1.7) or (c == 2))\n"
     ]
    }
   ],
   "source": [
    "logic = '(a > 1.2) and ((b = 1.7) or (c = 2))'\n",
    "#logic = '('+logic+')'\n",
    "logic = logic.replace('=','==')\n",
    "print(logic)"
   ]
  },
  {
   "cell_type": "code",
   "execution_count": 46,
   "metadata": {},
   "outputs": [
    {
     "data": {
      "text/plain": [
       "True"
      ]
     },
     "execution_count": 46,
     "metadata": {},
     "output_type": "execute_result"
    }
   ],
   "source": [
    "a = 1.7\n",
    "b = 1.2\n",
    "c = 2\n",
    "eval('(a > 1.2) and ((b == 1.7) or (c == 2))')"
   ]
  },
  {
   "cell_type": "code",
   "execution_count": 42,
   "metadata": {},
   "outputs": [
    {
     "data": {
      "text/plain": [
       "True"
      ]
     },
     "execution_count": 42,
     "metadata": {},
     "output_type": "execute_result"
    }
   ],
   "source": [
    "eval('True and (False or True)')"
   ]
  },
  {
   "cell_type": "code",
   "execution_count": 43,
   "metadata": {},
   "outputs": [
    {
     "data": {
      "text/plain": [
       "True"
      ]
     },
     "execution_count": 43,
     "metadata": {},
     "output_type": "execute_result"
    }
   ],
   "source": [
    "eval('(1.7 > 1.2) and ((1.2 == 1.7) or (2 == 2))')"
   ]
  },
  {
   "cell_type": "code",
   "execution_count": 27,
   "metadata": {},
   "outputs": [
    {
     "name": "stdout",
     "output_type": "stream",
     "text": [
      "[((location_name='Yakbedda') and (variable_type='WaterLevel') and ((current_water_level>=alert_water_level) or (current_water_level>=warning_water_level)))] or [((location_name='Kohuwala') and (variable_type='Precipitation') and ((rainfall_intensity>=65.4) or ((last_1_day_rainfall>=150) and (last_3_day_rainfall>=420))))]\n"
     ]
    }
   ],
   "source": [
    "rule_logic = \"[((location_name='Yakbedda') and (variable_type='WaterLevel') and ((current_water_level>=alert_water_level) or (current_water_level>=warning_water_level)))] or [((location_name='Kohuwala') and (variable_type='Precipitation') and ((rainfall_intensity>=65.4) or ((last_1_day_rainfall>=150) and (last_3_day_rainfall>=420))))]\"\n",
    "print(rule_logic)"
   ]
  },
  {
   "cell_type": "code",
   "execution_count": 5,
   "metadata": {},
   "outputs": [
    {
     "data": {
      "text/plain": [
       "[True]"
      ]
     },
     "execution_count": 5,
     "metadata": {},
     "output_type": "execute_result"
    }
   ],
   "source": [
    "eval(\"[(True) and (True)]\")"
   ]
  },
  {
   "cell_type": "code",
   "execution_count": 24,
   "metadata": {},
   "outputs": [
    {
     "name": "stdout",
     "output_type": "stream",
     "text": [
      "rule_logic :  [((location_name='Yakbedda') and (variable_type='WaterLevel') and ((current_water_level>=alert_water_level) or (current_water_level>=warning_water_level)))] or [((location_name='Kohuwala') and (variable_type='Precipitation') and ((rainfall_intensity>=65.4) or ((last_1_day_rainfall>=150) and (last_3_day_rainfall>=420))))]\n",
      "start_index :  0\n",
      "stop_index :  155\n",
      "param_logic :  [((location_name='Yakbedda') and (variable_type='WaterLevel') and ((current_water_level>=alert_water_level) or (current_water_level>=warning_water_level)))]\n",
      "start_index :  160\n",
      "stop_index :  321\n",
      "param_logic :  [((location_name='Kohuwala') and (variable_type='Precipitation') and ((rainfall_intensity>=65.4) or ((last_1_day_rainfall>=150) and (last_3_day_rainfall>=420))))]\n"
     ]
    }
   ],
   "source": [
    "print('rule_logic : ', rule_logic)\n",
    "param_counter = 0\n",
    "start_index = None\n",
    "stop_index = None\n",
    "for i in range(len(rule_logic)):\n",
    "    if rule_logic[i] == '[':\n",
    "        start_index = i\n",
    "        print('start_index : ', start_index)\n",
    "    elif rule_logic[i] == ']':\n",
    "        stop_index = i\n",
    "        print('stop_index : ', stop_index)\n",
    "    if start_index is not None and stop_index is not None:\n",
    "        param_logic = rule_logic[start_index:stop_index+1]\n",
    "        print('param_logic : ', param_logic)\n",
    "        start_index = None\n",
    "        stop_index = None"
   ]
  },
  {
   "cell_type": "code",
   "execution_count": 28,
   "metadata": {},
   "outputs": [
    {
     "data": {
      "text/plain": [
       "True"
      ]
     },
     "execution_count": 28,
     "metadata": {},
     "output_type": "execute_result"
    }
   ],
   "source": [
    "def matched(str):\n",
    "    count = 0\n",
    "    for i in str:\n",
    "        if i == \"(\":\n",
    "            count += 1\n",
    "        elif i == \")\":\n",
    "            count -= 1\n",
    "        if count < 0:\n",
    "            return False\n",
    "    return count == 0\n",
    "\n",
    "matched(rule_logic)"
   ]
  },
  {
   "cell_type": "code",
   "execution_count": 29,
   "metadata": {},
   "outputs": [
    {
     "data": {
      "text/plain": [
       "False"
      ]
     },
     "execution_count": 29,
     "metadata": {},
     "output_type": "execute_result"
    }
   ],
   "source": [
    "def brackets(expression):\n",
    "   all_br = ['()', '{}', '[]']\n",
    "   while any(x in expression for x in all_br):\n",
    "      for br in all_br:\n",
    "         expression = expression.replace(br, '')\n",
    "   return not expression\n",
    "\n",
    "brackets(rule_logic)"
   ]
  },
  {
   "cell_type": "code",
   "execution_count": 30,
   "metadata": {},
   "outputs": [
    {
     "data": {
      "text/plain": [
       "False"
      ]
     },
     "execution_count": 30,
     "metadata": {},
     "output_type": "execute_result"
    }
   ],
   "source": [
    "brackets('() and (() or ())')"
   ]
  },
  {
   "cell_type": "code",
   "execution_count": 31,
   "metadata": {},
   "outputs": [
    {
     "data": {
      "text/plain": [
       "True"
      ]
     },
     "execution_count": 31,
     "metadata": {},
     "output_type": "execute_result"
    }
   ],
   "source": [
    "def is_matched(expression):\n",
    "    \"\"\"\n",
    "    Finds out how balanced an expression is.\n",
    "    With a string containing only brackets.\n",
    "\n",
    "    >>> is_matched('[]()()(((([])))')\n",
    "    False\n",
    "    >>> is_matched('[](){{{[]}}}')\n",
    "    True\n",
    "    \"\"\"\n",
    "    opening = tuple('({[')\n",
    "    closing = tuple(')}]')\n",
    "    mapping = dict(zip(opening, closing))\n",
    "    queue = []\n",
    "\n",
    "    for letter in expression:\n",
    "        if letter in opening:\n",
    "            queue.append(mapping[letter])\n",
    "        elif letter in closing:\n",
    "            if not queue or letter != queue.pop():\n",
    "                return False\n",
    "    return not queue\n",
    "is_matched('() and (() or ())')"
   ]
  },
  {
   "cell_type": "code",
   "execution_count": 32,
   "metadata": {},
   "outputs": [
    {
     "data": {
      "text/plain": [
       "True"
      ]
     },
     "execution_count": 32,
     "metadata": {},
     "output_type": "execute_result"
    }
   ],
   "source": [
    "is_matched(rule_logic)"
   ]
  },
  {
   "cell_type": "code",
   "execution_count": 3,
   "metadata": {},
   "outputs": [],
   "source": [
    "import zlib"
   ]
  },
  {
   "cell_type": "code",
   "execution_count": 10,
   "metadata": {},
   "outputs": [
    {
     "name": "stdout",
     "output_type": "stream",
     "text": [
      "this string needs compressing\n",
      "b'x\\x9c+\\xc9\\xc8,V(.)\\xca\\xccKW\\xc8KMM)VH\\xce\\xcf-(J-.\\x06\\x8a\\x00\\x00\\xa8\\xe5\\x0bi'\n"
     ]
    }
   ],
   "source": [
    "a = \"this string needs compressing\"\n",
    "print(a)\n",
    "a_zip = zlib.compress(a.encode())\n",
    "print(a_zip)"
   ]
  },
  {
   "cell_type": "code",
   "execution_count": 12,
   "metadata": {},
   "outputs": [
    {
     "name": "stdout",
     "output_type": "stream",
     "text": [
      "this string needs compressing\n"
     ]
    }
   ],
   "source": [
    "unzip_a = zlib.decompress(a_zip)\n",
    "print(unzip_a.decode())"
   ]
  },
  {
   "cell_type": "code",
   "execution_count": null,
   "metadata": {},
   "outputs": [],
   "source": []
  }
 ],
 "metadata": {
  "kernelspec": {
   "display_name": "Python 3",
   "language": "python",
   "name": "python3"
  },
  "language_info": {
   "codemirror_mode": {
    "name": "ipython",
    "version": 3
   },
   "file_extension": ".py",
   "mimetype": "text/x-python",
   "name": "python",
   "nbconvert_exporter": "python",
   "pygments_lexer": "ipython3",
   "version": "3.6.5"
  }
 },
 "nbformat": 4,
 "nbformat_minor": 2
}
