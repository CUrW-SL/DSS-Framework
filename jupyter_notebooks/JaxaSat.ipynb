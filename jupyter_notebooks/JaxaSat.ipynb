{
 "cells": [
  {
   "cell_type": "code",
   "execution_count": 40,
   "metadata": {},
   "outputs": [],
   "source": [
    "from datetime import datetime\n",
    "import os\n",
    "from urllib.request import urlopen\n"
   ]
  },
  {
   "cell_type": "code",
   "execution_count": 47,
   "metadata": {},
   "outputs": [],
   "source": [
    "date_str = '2019-10-11 02:00:00'\n",
    "data_date = datetime.strptime(date_str,'%Y-%m-%d %H:%M:%S')\n",
    "login = 'rainmap:Niskur+1404'\n",
    "jaxa_url = 'ftp://' + login + '@hokusai.eorc.jaxa.jp/now/txt/05_AsiaSS/gsmap_now.YYYYMMDD.HH00_HH59.05_AsiaSS.csv.zip'"
   ]
  },
  {
   "cell_type": "code",
   "execution_count": 48,
   "metadata": {},
   "outputs": [],
   "source": [
    "date_dic = {'YYYY':data_date.strftime('%Y'),'MM':data_date.strftime('%m'),'DD':data_date.strftime('%d'),'HH':data_date.strftime('%H')}\n",
    "for k,v in list(date_dic.items()):\n",
    "    jaxa_url = jaxa_url.replace(k, v)"
   ]
  },
  {
   "cell_type": "code",
   "execution_count": 55,
   "metadata": {},
   "outputs": [],
   "source": [
    "def _download_file(url, dest):\n",
    "    f = urlopen(url)\n",
    "    with open(dest, \"wb\") as local_file:\n",
    "        local_file.write(f.read())"
   ]
  },
  {
   "cell_type": "code",
   "execution_count": 53,
   "metadata": {},
   "outputs": [
    {
     "name": "stdout",
     "output_type": "stream",
     "text": [
      "/home/hasitha/PycharmProjects/DSS-Framework/jupyter_notebooks/jaxa_data\n"
     ]
    }
   ],
   "source": [
    "dir_path = os.path.join(os.getcwd(), 'jaxa_data')\n",
    "if not os.path.exists(dir_path):\n",
    "    os.makedirs(dir_path)\n",
    "jaxa_zip_file = os.path.join(dir_path, os.path.basename(jaxa_url))\n"
   ]
  },
  {
   "cell_type": "code",
   "execution_count": 60,
   "metadata": {},
   "outputs": [],
   "source": [
    "download_file(jaxa_url, jaxa_zip_file)\n",
    "def download_jaxa_data(date_str, dir_path=None):\n",
    "    data_date = datetime.strptime(date_str,'%Y-%m-%d %H:%M:%S')\n",
    "    login = 'rainmap:Niskur+1404'\n",
    "    jaxa_url = 'ftp://' + login + '@hokusai.eorc.jaxa.jp/now/txt/05_AsiaSS/gsmap_now.YYYYMMDD.HH00_HH59.05_AsiaSS.csv.zip'\n",
    "    date_dic = {'YYYY':data_date.strftime('%Y'),'MM':data_date.strftime('%m'),'DD':data_date.strftime('%d'),'HH':data_date.strftime('%H')}\n",
    "    for k,v in list(date_dic.items()):\n",
    "        jaxa_url = jaxa_url.replace(k, v)\n",
    "    if dir_path is not None:\n",
    "        data_path = os.path.join(dir_path, 'jaxa_data')\n",
    "    else:\n",
    "        data_path = os.path.join(os.getcwd(), 'jaxa_data')\n",
    "    if not os.path.exists(data_path):\n",
    "        os.makedirs(data_path)\n",
    "    jaxa_zip_file = os.path.join(data_path, os.path.basename(jaxa_url))\n",
    "    _download_file(jaxa_url, jaxa_zip_file)"
   ]
  },
  {
   "cell_type": "code",
   "execution_count": null,
   "metadata": {},
   "outputs": [],
   "source": [
    "download_jaxa_data('2019-10-11 02:00:00')"
   ]
  }
 ],
 "metadata": {
  "kernelspec": {
   "display_name": "Python 3",
   "language": "python",
   "name": "python3"
  },
  "language_info": {
   "codemirror_mode": {
    "name": "ipython",
    "version": 3
   },
   "file_extension": ".py",
   "mimetype": "text/x-python",
   "name": "python",
   "nbconvert_exporter": "python",
   "pygments_lexer": "ipython3",
   "version": "3.6.5"
  }
 },
 "nbformat": 4,
 "nbformat_minor": 2
}
