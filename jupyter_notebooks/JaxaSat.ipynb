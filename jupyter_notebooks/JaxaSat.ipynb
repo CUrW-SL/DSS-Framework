{
 "cells": [
  {
   "cell_type": "code",
   "execution_count": 1,
   "metadata": {},
   "outputs": [],
   "source": [
    "from datetime import datetime\n",
    "import os\n",
    "from urllib.request import urlopen\n",
    "import glob\n",
    "import zipfile\n",
    "import pandas as pd \n",
    "\n",
    "jax_dir_path = '/home/hasitha/PycharmProjects/DSS-Framework/jupyter_notebooks/jaxa_data'"
   ]
  },
  {
   "cell_type": "code",
   "execution_count": 2,
   "metadata": {},
   "outputs": [],
   "source": [
    "date_str = '2019-10-11 02:00:00'\n",
    "data_date = datetime.strptime(date_str,'%Y-%m-%d %H:%M:%S')\n",
    "login = 'rainmap:Niskur+1404'\n",
    "jaxa_url = 'ftp://' + login + '@hokusai.eorc.jaxa.jp/now/txt/05_AsiaSS/gsmap_now.YYYYMMDD.HH00_HH59.05_AsiaSS.csv.zip'"
   ]
  },
  {
   "cell_type": "code",
   "execution_count": 3,
   "metadata": {},
   "outputs": [],
   "source": [
    "date_dic = {'YYYY':data_date.strftime('%Y'),'MM':data_date.strftime('%m'),'DD':data_date.strftime('%d'),'HH':data_date.strftime('%H')}\n",
    "for k,v in list(date_dic.items()):\n",
    "    jaxa_url = jaxa_url.replace(k, v)"
   ]
  },
  {
   "cell_type": "code",
   "execution_count": 4,
   "metadata": {},
   "outputs": [],
   "source": [
    "def _download_file(url, dest):\n",
    "    f = urlopen(url)\n",
    "    with open(dest, \"wb\") as local_file:\n",
    "        local_file.write(f.read())"
   ]
  },
  {
   "cell_type": "code",
   "execution_count": 5,
   "metadata": {},
   "outputs": [],
   "source": [
    "dir_path = os.path.join(os.getcwd(), 'jaxa_data')\n",
    "if not os.path.exists(dir_path):\n",
    "    os.makedirs(dir_path)\n",
    "jaxa_zip_file = os.path.join(dir_path, os.path.basename(jaxa_url))\n"
   ]
  },
  {
   "cell_type": "code",
   "execution_count": 6,
   "metadata": {},
   "outputs": [],
   "source": [
    "def download_jaxa_data(date_str, dir_path=None):\n",
    "    data_date = datetime.strptime(date_str,'%Y-%m-%d %H:%M:%S')\n",
    "    login = 'rainmap:Niskur+1404'\n",
    "    jaxa_url = 'ftp://' + login + '@hokusai.eorc.jaxa.jp/now/txt/05_AsiaSS/gsmap_now.YYYYMMDD.HH00_HH59.05_AsiaSS.csv.zip'\n",
    "    date_dic = {'YYYY':data_date.strftime('%Y'),'MM':data_date.strftime('%m'),'DD':data_date.strftime('%d'),'HH':data_date.strftime('%H')}\n",
    "    for k,v in list(date_dic.items()):\n",
    "        jaxa_url = jaxa_url.replace(k, v)\n",
    "    if dir_path is not None:\n",
    "        data_path = os.path.join(dir_path, 'jaxa_data')\n",
    "    else:\n",
    "        data_path = os.path.join(os.getcwd(), 'jaxa_data')\n",
    "    if not os.path.exists(data_path):\n",
    "        os.makedirs(data_path)\n",
    "    jaxa_zip_file = os.path.join(data_path, os.path.basename(jaxa_url))\n",
    "    _download_file(jaxa_url, jaxa_zip_file)\n",
    "    return jaxa_zip_file"
   ]
  },
  {
   "cell_type": "code",
   "execution_count": 7,
   "metadata": {},
   "outputs": [],
   "source": [
    "def list_files(path, ext):\n",
    "    files = [f for f in glob.glob(path + \"**/*.{}\".format(ext), recursive=True)]\n",
    "    for f in files:\n",
    "        print(f)"
   ]
  },
  {
   "cell_type": "code",
   "execution_count": 8,
   "metadata": {},
   "outputs": [
    {
     "name": "stdout",
     "output_type": "stream",
     "text": [
      "/home/hasitha/PycharmProjects/DSS-Framework/jupyter_notebooks/jaxa_data/gsmap_now.20191011.0200_0259.05_AsiaSS.csv.zip\n",
      "/home/hasitha/PycharmProjects/DSS-Framework/jupyter_notebooks/jaxa_data/gsmap_now.20191011.0300_0359.05_AsiaSS.csv.zip\n"
     ]
    }
   ],
   "source": [
    "list_files(jax_dir_path,'zip')"
   ]
  },
  {
   "cell_type": "code",
   "execution_count": 9,
   "metadata": {},
   "outputs": [],
   "source": [
    "def unzip_file(src,dest=None):\n",
    "    with zipfile.ZipFile(src, 'r') as zip_ref:\n",
    "        if dest is not None:\n",
    "            zip_ref.extractall(dest)\n",
    "        else:\n",
    "            zip_ref.extractall(jax_dir_path)"
   ]
  },
  {
   "cell_type": "code",
   "execution_count": 10,
   "metadata": {},
   "outputs": [],
   "source": [
    "unzip_file('/home/hasitha/PycharmProjects/DSS-Framework/jupyter_notebooks/jaxa_data/gsmap_now.20191011.0300_0359.05_AsiaSS.csv.zip',jax_dir_path)"
   ]
  },
  {
   "cell_type": "code",
   "execution_count": 11,
   "metadata": {},
   "outputs": [
    {
     "name": "stdout",
     "output_type": "stream",
     "text": [
      "/home/hasitha/PycharmProjects/DSS-Framework/jupyter_notebooks/jaxa_data/gsmap_now.20191011.0300_0359.05_AsiaSS.csv\n"
     ]
    }
   ],
   "source": [
    "list_files(jax_dir_path,'csv')"
   ]
  },
  {
   "cell_type": "code",
   "execution_count": 12,
   "metadata": {},
   "outputs": [
    {
     "data": {
      "text/html": [
       "<div>\n",
       "<style scoped>\n",
       "    .dataframe tbody tr th:only-of-type {\n",
       "        vertical-align: middle;\n",
       "    }\n",
       "\n",
       "    .dataframe tbody tr th {\n",
       "        vertical-align: top;\n",
       "    }\n",
       "\n",
       "    .dataframe thead th {\n",
       "        text-align: right;\n",
       "    }\n",
       "</style>\n",
       "<table border=\"1\" class=\"dataframe\">\n",
       "  <thead>\n",
       "    <tr style=\"text-align: right;\">\n",
       "      <th></th>\n",
       "      <th>Lat</th>\n",
       "      <th>Lon</th>\n",
       "      <th>RainRate</th>\n",
       "      <th>Gauge-calibratedRain</th>\n",
       "    </tr>\n",
       "  </thead>\n",
       "  <tbody>\n",
       "    <tr>\n",
       "      <td>0</td>\n",
       "      <td>39.95</td>\n",
       "      <td>60.05</td>\n",
       "      <td>0.0</td>\n",
       "      <td>0.0</td>\n",
       "    </tr>\n",
       "    <tr>\n",
       "      <td>1</td>\n",
       "      <td>39.85</td>\n",
       "      <td>60.05</td>\n",
       "      <td>0.0</td>\n",
       "      <td>0.0</td>\n",
       "    </tr>\n",
       "    <tr>\n",
       "      <td>2</td>\n",
       "      <td>39.75</td>\n",
       "      <td>60.05</td>\n",
       "      <td>0.0</td>\n",
       "      <td>0.0</td>\n",
       "    </tr>\n",
       "    <tr>\n",
       "      <td>3</td>\n",
       "      <td>39.65</td>\n",
       "      <td>60.05</td>\n",
       "      <td>0.0</td>\n",
       "      <td>0.0</td>\n",
       "    </tr>\n",
       "    <tr>\n",
       "      <td>4</td>\n",
       "      <td>39.55</td>\n",
       "      <td>60.05</td>\n",
       "      <td>0.0</td>\n",
       "      <td>0.0</td>\n",
       "    </tr>\n",
       "    <tr>\n",
       "      <td>...</td>\n",
       "      <td>...</td>\n",
       "      <td>...</td>\n",
       "      <td>...</td>\n",
       "      <td>...</td>\n",
       "    </tr>\n",
       "    <tr>\n",
       "      <td>115825</td>\n",
       "      <td>5.35</td>\n",
       "      <td>92.95</td>\n",
       "      <td>0.0</td>\n",
       "      <td>0.0</td>\n",
       "    </tr>\n",
       "    <tr>\n",
       "      <td>115826</td>\n",
       "      <td>5.25</td>\n",
       "      <td>92.95</td>\n",
       "      <td>0.0</td>\n",
       "      <td>0.0</td>\n",
       "    </tr>\n",
       "    <tr>\n",
       "      <td>115827</td>\n",
       "      <td>5.15</td>\n",
       "      <td>92.95</td>\n",
       "      <td>0.0</td>\n",
       "      <td>0.0</td>\n",
       "    </tr>\n",
       "    <tr>\n",
       "      <td>115828</td>\n",
       "      <td>5.05</td>\n",
       "      <td>92.95</td>\n",
       "      <td>0.0</td>\n",
       "      <td>0.0</td>\n",
       "    </tr>\n",
       "    <tr>\n",
       "      <td>115829</td>\n",
       "      <td>4.95</td>\n",
       "      <td>92.95</td>\n",
       "      <td>0.0</td>\n",
       "      <td>0.0</td>\n",
       "    </tr>\n",
       "  </tbody>\n",
       "</table>\n",
       "<p>115830 rows × 4 columns</p>\n",
       "</div>"
      ],
      "text/plain": [
       "          Lat    Lon    RainRate    Gauge-calibratedRain\n",
       "0       39.95  60.05         0.0                     0.0\n",
       "1       39.85  60.05         0.0                     0.0\n",
       "2       39.75  60.05         0.0                     0.0\n",
       "3       39.65  60.05         0.0                     0.0\n",
       "4       39.55  60.05         0.0                     0.0\n",
       "...       ...    ...         ...                     ...\n",
       "115825   5.35  92.95         0.0                     0.0\n",
       "115826   5.25  92.95         0.0                     0.0\n",
       "115827   5.15  92.95         0.0                     0.0\n",
       "115828   5.05  92.95         0.0                     0.0\n",
       "115829   4.95  92.95         0.0                     0.0\n",
       "\n",
       "[115830 rows x 4 columns]"
      ]
     },
     "execution_count": 12,
     "metadata": {},
     "output_type": "execute_result"
    }
   ],
   "source": [
    "df = pd.read_csv('/home/hasitha/PycharmProjects/DSS-Framework/jupyter_notebooks/jaxa_data/gsmap_now.20191011.0300_0359.05_AsiaSS.csv')\n",
    "df"
   ]
  },
  {
   "cell_type": "code",
   "execution_count": 13,
   "metadata": {},
   "outputs": [
    {
     "data": {
      "text/plain": [
       "[' Lat', '  Lon', '  RainRate', '  Gauge-calibratedRain']"
      ]
     },
     "execution_count": 13,
     "metadata": {},
     "output_type": "execute_result"
    }
   ],
   "source": [
    "list(df.columns.values)"
   ]
  },
  {
   "cell_type": "code",
   "execution_count": 14,
   "metadata": {},
   "outputs": [],
   "source": [
    "df.drop('  Gauge-calibratedRain', axis=1, inplace=True)"
   ]
  },
  {
   "cell_type": "code",
   "execution_count": 16,
   "metadata": {},
   "outputs": [
    {
     "data": {
      "text/html": [
       "<div>\n",
       "<style scoped>\n",
       "    .dataframe tbody tr th:only-of-type {\n",
       "        vertical-align: middle;\n",
       "    }\n",
       "\n",
       "    .dataframe tbody tr th {\n",
       "        vertical-align: top;\n",
       "    }\n",
       "\n",
       "    .dataframe thead th {\n",
       "        text-align: right;\n",
       "    }\n",
       "</style>\n",
       "<table border=\"1\" class=\"dataframe\">\n",
       "  <thead>\n",
       "    <tr style=\"text-align: right;\">\n",
       "      <th></th>\n",
       "      <th>Lat</th>\n",
       "      <th>Lon</th>\n",
       "      <th>RainRate</th>\n",
       "    </tr>\n",
       "  </thead>\n",
       "  <tbody>\n",
       "    <tr>\n",
       "      <td>0</td>\n",
       "      <td>39.95</td>\n",
       "      <td>60.05</td>\n",
       "      <td>0.0</td>\n",
       "    </tr>\n",
       "    <tr>\n",
       "      <td>1</td>\n",
       "      <td>39.85</td>\n",
       "      <td>60.05</td>\n",
       "      <td>0.0</td>\n",
       "    </tr>\n",
       "    <tr>\n",
       "      <td>2</td>\n",
       "      <td>39.75</td>\n",
       "      <td>60.05</td>\n",
       "      <td>0.0</td>\n",
       "    </tr>\n",
       "    <tr>\n",
       "      <td>3</td>\n",
       "      <td>39.65</td>\n",
       "      <td>60.05</td>\n",
       "      <td>0.0</td>\n",
       "    </tr>\n",
       "    <tr>\n",
       "      <td>4</td>\n",
       "      <td>39.55</td>\n",
       "      <td>60.05</td>\n",
       "      <td>0.0</td>\n",
       "    </tr>\n",
       "    <tr>\n",
       "      <td>...</td>\n",
       "      <td>...</td>\n",
       "      <td>...</td>\n",
       "      <td>...</td>\n",
       "    </tr>\n",
       "    <tr>\n",
       "      <td>115825</td>\n",
       "      <td>5.35</td>\n",
       "      <td>92.95</td>\n",
       "      <td>0.0</td>\n",
       "    </tr>\n",
       "    <tr>\n",
       "      <td>115826</td>\n",
       "      <td>5.25</td>\n",
       "      <td>92.95</td>\n",
       "      <td>0.0</td>\n",
       "    </tr>\n",
       "    <tr>\n",
       "      <td>115827</td>\n",
       "      <td>5.15</td>\n",
       "      <td>92.95</td>\n",
       "      <td>0.0</td>\n",
       "    </tr>\n",
       "    <tr>\n",
       "      <td>115828</td>\n",
       "      <td>5.05</td>\n",
       "      <td>92.95</td>\n",
       "      <td>0.0</td>\n",
       "    </tr>\n",
       "    <tr>\n",
       "      <td>115829</td>\n",
       "      <td>4.95</td>\n",
       "      <td>92.95</td>\n",
       "      <td>0.0</td>\n",
       "    </tr>\n",
       "  </tbody>\n",
       "</table>\n",
       "<p>115830 rows × 3 columns</p>\n",
       "</div>"
      ],
      "text/plain": [
       "          Lat    Lon    RainRate\n",
       "0       39.95  60.05         0.0\n",
       "1       39.85  60.05         0.0\n",
       "2       39.75  60.05         0.0\n",
       "3       39.65  60.05         0.0\n",
       "4       39.55  60.05         0.0\n",
       "...       ...    ...         ...\n",
       "115825   5.35  92.95         0.0\n",
       "115826   5.25  92.95         0.0\n",
       "115827   5.15  92.95         0.0\n",
       "115828   5.05  92.95         0.0\n",
       "115829   4.95  92.95         0.0\n",
       "\n",
       "[115830 rows x 3 columns]"
      ]
     },
     "execution_count": 16,
     "metadata": {},
     "output_type": "execute_result"
    }
   ],
   "source": [
    "df"
   ]
  },
  {
   "cell_type": "code",
   "execution_count": 18,
   "metadata": {},
   "outputs": [],
   "source": [
    "df.rename(columns={' Lat': 'Lat', '  Lon': 'Lon', '  RainRate': 'RainRate'}, inplace=True)"
   ]
  },
  {
   "cell_type": "code",
   "execution_count": 20,
   "metadata": {},
   "outputs": [
    {
     "data": {
      "text/plain": [
       "['Lat', 'Lon', 'RainRate']"
      ]
     },
     "execution_count": 20,
     "metadata": {},
     "output_type": "execute_result"
    }
   ],
   "source": [
    "list(df.columns.values)"
   ]
  },
  {
   "cell_type": "code",
   "execution_count": 23,
   "metadata": {},
   "outputs": [],
   "source": [
    "df=df[['Lon', 'Lat', 'RainRate']]"
   ]
  },
  {
   "cell_type": "code",
   "execution_count": 24,
   "metadata": {},
   "outputs": [
    {
     "data": {
      "text/html": [
       "<div>\n",
       "<style scoped>\n",
       "    .dataframe tbody tr th:only-of-type {\n",
       "        vertical-align: middle;\n",
       "    }\n",
       "\n",
       "    .dataframe tbody tr th {\n",
       "        vertical-align: top;\n",
       "    }\n",
       "\n",
       "    .dataframe thead th {\n",
       "        text-align: right;\n",
       "    }\n",
       "</style>\n",
       "<table border=\"1\" class=\"dataframe\">\n",
       "  <thead>\n",
       "    <tr style=\"text-align: right;\">\n",
       "      <th></th>\n",
       "      <th>Lon</th>\n",
       "      <th>Lat</th>\n",
       "      <th>RainRate</th>\n",
       "    </tr>\n",
       "  </thead>\n",
       "  <tbody>\n",
       "    <tr>\n",
       "      <td>0</td>\n",
       "      <td>60.05</td>\n",
       "      <td>39.95</td>\n",
       "      <td>0.0</td>\n",
       "    </tr>\n",
       "    <tr>\n",
       "      <td>1</td>\n",
       "      <td>60.05</td>\n",
       "      <td>39.85</td>\n",
       "      <td>0.0</td>\n",
       "    </tr>\n",
       "    <tr>\n",
       "      <td>2</td>\n",
       "      <td>60.05</td>\n",
       "      <td>39.75</td>\n",
       "      <td>0.0</td>\n",
       "    </tr>\n",
       "    <tr>\n",
       "      <td>3</td>\n",
       "      <td>60.05</td>\n",
       "      <td>39.65</td>\n",
       "      <td>0.0</td>\n",
       "    </tr>\n",
       "    <tr>\n",
       "      <td>4</td>\n",
       "      <td>60.05</td>\n",
       "      <td>39.55</td>\n",
       "      <td>0.0</td>\n",
       "    </tr>\n",
       "    <tr>\n",
       "      <td>...</td>\n",
       "      <td>...</td>\n",
       "      <td>...</td>\n",
       "      <td>...</td>\n",
       "    </tr>\n",
       "    <tr>\n",
       "      <td>115825</td>\n",
       "      <td>92.95</td>\n",
       "      <td>5.35</td>\n",
       "      <td>0.0</td>\n",
       "    </tr>\n",
       "    <tr>\n",
       "      <td>115826</td>\n",
       "      <td>92.95</td>\n",
       "      <td>5.25</td>\n",
       "      <td>0.0</td>\n",
       "    </tr>\n",
       "    <tr>\n",
       "      <td>115827</td>\n",
       "      <td>92.95</td>\n",
       "      <td>5.15</td>\n",
       "      <td>0.0</td>\n",
       "    </tr>\n",
       "    <tr>\n",
       "      <td>115828</td>\n",
       "      <td>92.95</td>\n",
       "      <td>5.05</td>\n",
       "      <td>0.0</td>\n",
       "    </tr>\n",
       "    <tr>\n",
       "      <td>115829</td>\n",
       "      <td>92.95</td>\n",
       "      <td>4.95</td>\n",
       "      <td>0.0</td>\n",
       "    </tr>\n",
       "  </tbody>\n",
       "</table>\n",
       "<p>115830 rows × 3 columns</p>\n",
       "</div>"
      ],
      "text/plain": [
       "          Lon    Lat  RainRate\n",
       "0       60.05  39.95       0.0\n",
       "1       60.05  39.85       0.0\n",
       "2       60.05  39.75       0.0\n",
       "3       60.05  39.65       0.0\n",
       "4       60.05  39.55       0.0\n",
       "...       ...    ...       ...\n",
       "115825  92.95   5.35       0.0\n",
       "115826  92.95   5.25       0.0\n",
       "115827  92.95   5.15       0.0\n",
       "115828  92.95   5.05       0.0\n",
       "115829  92.95   4.95       0.0\n",
       "\n",
       "[115830 rows x 3 columns]"
      ]
     },
     "execution_count": 24,
     "metadata": {},
     "output_type": "execute_result"
    }
   ],
   "source": [
    "df"
   ]
  },
  {
   "cell_type": "code",
   "execution_count": 25,
   "metadata": {},
   "outputs": [],
   "source": [
    "d03_grid={'lon_min':79.521461,'lon_max':82.189919,'lat_min':5.722969,'lat_max':10.064255}"
   ]
  },
  {
   "cell_type": "code",
   "execution_count": 34,
   "metadata": {},
   "outputs": [],
   "source": [
    "d03_df=df[(df['Lon']>=d03_grid['lon_min']) & (df['Lon']<=d03_grid['lon_max']) & (df['Lat']>=d03_grid['lat_min']) & (df['Lat']<=d03_grid['lat_max'])]"
   ]
  },
  {
   "cell_type": "code",
   "execution_count": 35,
   "metadata": {},
   "outputs": [
    {
     "data": {
      "text/html": [
       "<div>\n",
       "<style scoped>\n",
       "    .dataframe tbody tr th:only-of-type {\n",
       "        vertical-align: middle;\n",
       "    }\n",
       "\n",
       "    .dataframe tbody tr th {\n",
       "        vertical-align: top;\n",
       "    }\n",
       "\n",
       "    .dataframe thead th {\n",
       "        text-align: right;\n",
       "    }\n",
       "</style>\n",
       "<table border=\"1\" class=\"dataframe\">\n",
       "  <thead>\n",
       "    <tr style=\"text-align: right;\">\n",
       "      <th></th>\n",
       "      <th>Lon</th>\n",
       "      <th>Lat</th>\n",
       "      <th>RainRate</th>\n",
       "    </tr>\n",
       "  </thead>\n",
       "  <tbody>\n",
       "    <tr>\n",
       "      <td>68744</td>\n",
       "      <td>79.55</td>\n",
       "      <td>10.05</td>\n",
       "      <td>0.00</td>\n",
       "    </tr>\n",
       "    <tr>\n",
       "      <td>68745</td>\n",
       "      <td>79.55</td>\n",
       "      <td>9.95</td>\n",
       "      <td>0.00</td>\n",
       "    </tr>\n",
       "    <tr>\n",
       "      <td>68746</td>\n",
       "      <td>79.55</td>\n",
       "      <td>9.85</td>\n",
       "      <td>0.00</td>\n",
       "    </tr>\n",
       "    <tr>\n",
       "      <td>68747</td>\n",
       "      <td>79.55</td>\n",
       "      <td>9.75</td>\n",
       "      <td>0.00</td>\n",
       "    </tr>\n",
       "    <tr>\n",
       "      <td>68748</td>\n",
       "      <td>79.55</td>\n",
       "      <td>9.65</td>\n",
       "      <td>0.00</td>\n",
       "    </tr>\n",
       "    <tr>\n",
       "      <td>...</td>\n",
       "      <td>...</td>\n",
       "      <td>...</td>\n",
       "      <td>...</td>\n",
       "    </tr>\n",
       "    <tr>\n",
       "      <td>77909</td>\n",
       "      <td>82.15</td>\n",
       "      <td>6.15</td>\n",
       "      <td>4.10</td>\n",
       "    </tr>\n",
       "    <tr>\n",
       "      <td>77910</td>\n",
       "      <td>82.15</td>\n",
       "      <td>6.05</td>\n",
       "      <td>3.94</td>\n",
       "    </tr>\n",
       "    <tr>\n",
       "      <td>77911</td>\n",
       "      <td>82.15</td>\n",
       "      <td>5.95</td>\n",
       "      <td>4.26</td>\n",
       "    </tr>\n",
       "    <tr>\n",
       "      <td>77912</td>\n",
       "      <td>82.15</td>\n",
       "      <td>5.85</td>\n",
       "      <td>0.00</td>\n",
       "    </tr>\n",
       "    <tr>\n",
       "      <td>77913</td>\n",
       "      <td>82.15</td>\n",
       "      <td>5.75</td>\n",
       "      <td>3.34</td>\n",
       "    </tr>\n",
       "  </tbody>\n",
       "</table>\n",
       "<p>1188 rows × 3 columns</p>\n",
       "</div>"
      ],
      "text/plain": [
       "         Lon    Lat  RainRate\n",
       "68744  79.55  10.05      0.00\n",
       "68745  79.55   9.95      0.00\n",
       "68746  79.55   9.85      0.00\n",
       "68747  79.55   9.75      0.00\n",
       "68748  79.55   9.65      0.00\n",
       "...      ...    ...       ...\n",
       "77909  82.15   6.15      4.10\n",
       "77910  82.15   6.05      3.94\n",
       "77911  82.15   5.95      4.26\n",
       "77912  82.15   5.85      0.00\n",
       "77913  82.15   5.75      3.34\n",
       "\n",
       "[1188 rows x 3 columns]"
      ]
     },
     "execution_count": 35,
     "metadata": {},
     "output_type": "execute_result"
    }
   ],
   "source": [
    "d03_df"
   ]
  },
  {
   "cell_type": "code",
   "execution_count": 36,
   "metadata": {},
   "outputs": [],
   "source": [
    "d03_df = d03_df.reset_index(drop=True)"
   ]
  },
  {
   "cell_type": "code",
   "execution_count": 37,
   "metadata": {},
   "outputs": [
    {
     "data": {
      "text/html": [
       "<div>\n",
       "<style scoped>\n",
       "    .dataframe tbody tr th:only-of-type {\n",
       "        vertical-align: middle;\n",
       "    }\n",
       "\n",
       "    .dataframe tbody tr th {\n",
       "        vertical-align: top;\n",
       "    }\n",
       "\n",
       "    .dataframe thead th {\n",
       "        text-align: right;\n",
       "    }\n",
       "</style>\n",
       "<table border=\"1\" class=\"dataframe\">\n",
       "  <thead>\n",
       "    <tr style=\"text-align: right;\">\n",
       "      <th></th>\n",
       "      <th>Lon</th>\n",
       "      <th>Lat</th>\n",
       "      <th>RainRate</th>\n",
       "    </tr>\n",
       "  </thead>\n",
       "  <tbody>\n",
       "    <tr>\n",
       "      <td>0</td>\n",
       "      <td>79.55</td>\n",
       "      <td>10.05</td>\n",
       "      <td>0.00</td>\n",
       "    </tr>\n",
       "    <tr>\n",
       "      <td>1</td>\n",
       "      <td>79.55</td>\n",
       "      <td>9.95</td>\n",
       "      <td>0.00</td>\n",
       "    </tr>\n",
       "    <tr>\n",
       "      <td>2</td>\n",
       "      <td>79.55</td>\n",
       "      <td>9.85</td>\n",
       "      <td>0.00</td>\n",
       "    </tr>\n",
       "    <tr>\n",
       "      <td>3</td>\n",
       "      <td>79.55</td>\n",
       "      <td>9.75</td>\n",
       "      <td>0.00</td>\n",
       "    </tr>\n",
       "    <tr>\n",
       "      <td>4</td>\n",
       "      <td>79.55</td>\n",
       "      <td>9.65</td>\n",
       "      <td>0.00</td>\n",
       "    </tr>\n",
       "    <tr>\n",
       "      <td>...</td>\n",
       "      <td>...</td>\n",
       "      <td>...</td>\n",
       "      <td>...</td>\n",
       "    </tr>\n",
       "    <tr>\n",
       "      <td>1183</td>\n",
       "      <td>82.15</td>\n",
       "      <td>6.15</td>\n",
       "      <td>4.10</td>\n",
       "    </tr>\n",
       "    <tr>\n",
       "      <td>1184</td>\n",
       "      <td>82.15</td>\n",
       "      <td>6.05</td>\n",
       "      <td>3.94</td>\n",
       "    </tr>\n",
       "    <tr>\n",
       "      <td>1185</td>\n",
       "      <td>82.15</td>\n",
       "      <td>5.95</td>\n",
       "      <td>4.26</td>\n",
       "    </tr>\n",
       "    <tr>\n",
       "      <td>1186</td>\n",
       "      <td>82.15</td>\n",
       "      <td>5.85</td>\n",
       "      <td>0.00</td>\n",
       "    </tr>\n",
       "    <tr>\n",
       "      <td>1187</td>\n",
       "      <td>82.15</td>\n",
       "      <td>5.75</td>\n",
       "      <td>3.34</td>\n",
       "    </tr>\n",
       "  </tbody>\n",
       "</table>\n",
       "<p>1188 rows × 3 columns</p>\n",
       "</div>"
      ],
      "text/plain": [
       "        Lon    Lat  RainRate\n",
       "0     79.55  10.05      0.00\n",
       "1     79.55   9.95      0.00\n",
       "2     79.55   9.85      0.00\n",
       "3     79.55   9.75      0.00\n",
       "4     79.55   9.65      0.00\n",
       "...     ...    ...       ...\n",
       "1183  82.15   6.15      4.10\n",
       "1184  82.15   6.05      3.94\n",
       "1185  82.15   5.95      4.26\n",
       "1186  82.15   5.85      0.00\n",
       "1187  82.15   5.75      3.34\n",
       "\n",
       "[1188 rows x 3 columns]"
      ]
     },
     "execution_count": 37,
     "metadata": {},
     "output_type": "execute_result"
    }
   ],
   "source": [
    "d03_df"
   ]
  },
  {
   "cell_type": "code",
   "execution_count": null,
   "metadata": {},
   "outputs": [],
   "source": []
  }
 ],
 "metadata": {
  "kernelspec": {
   "display_name": "Python 3",
   "language": "python",
   "name": "python3"
  },
  "language_info": {
   "codemirror_mode": {
    "name": "ipython",
    "version": 3
   },
   "file_extension": ".py",
   "mimetype": "text/x-python",
   "name": "python",
   "nbconvert_exporter": "python",
   "pygments_lexer": "ipython3",
   "version": "3.6.5"
  }
 },
 "nbformat": 4,
 "nbformat_minor": 2
}
