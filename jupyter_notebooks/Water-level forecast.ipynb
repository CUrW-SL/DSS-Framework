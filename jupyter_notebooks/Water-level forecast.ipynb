{
 "cells": [
  {
   "cell_type": "code",
   "execution_count": 6,
   "metadata": {},
   "outputs": [],
   "source": [
    "from datetime import datetime,timedelta"
   ]
  },
  {
   "cell_type": "code",
   "execution_count": 16,
   "metadata": {},
   "outputs": [
    {
     "name": "stdout",
     "output_type": "stream",
     "text": [
      "2019-12-07 07:21:32\n",
      "2019-12-07 00:00:00\n"
     ]
    }
   ],
   "source": [
    "exec_datetime = '2019-12-07 07:21:32'\n",
    "wrf_run = '0'\n",
    "wrf_run = int(wrf_run)\n",
    "gfs_hour = '06'\n",
    "exec_datetime = datetime.strptime(exec_datetime, '%Y-%m-%d %H:%M:%S')\n",
    "print(exec_datetime)\n",
    "exec_date_str = exec_datetime.strftime('%Y-%m-%d')\n",
    "exec_date = datetime.strptime(exec_date_str, '%Y-%m-%d')\n",
    "print(exec_date)"
   ]
  },
  {
   "cell_type": "code",
   "execution_count": 17,
   "metadata": {},
   "outputs": [
    {
     "name": "stdout",
     "output_type": "stream",
     "text": [
      "2019-12-07\n"
     ]
    }
   ],
   "source": [
    "ts_start_date = exec_date - timedelta(days=wrf_run)\n",
    "ts_start_date_str = ts_start_date.strftime('%Y-%m-%d')\n",
    "print(ts_start_date_str)"
   ]
  },
  {
   "cell_type": "code",
   "execution_count": 19,
   "metadata": {},
   "outputs": [
    {
     "name": "stdout",
     "output_type": "stream",
     "text": [
      "2019-12-07 06:00:00\n"
     ]
    }
   ],
   "source": [
    "gfs_ts_start_utc_str = '{} {}:00:00'.format(ts_start_date_str, gfs_hour)\n",
    "print(gfs_ts_start_utc_str)"
   ]
  },
  {
   "cell_type": "code",
   "execution_count": 20,
   "metadata": {},
   "outputs": [
    {
     "name": "stdout",
     "output_type": "stream",
     "text": [
      "2019-12-07 11:30:00\n"
     ]
    }
   ],
   "source": [
    "gfs_ts_start_utc = datetime.strptime(gfs_ts_start_utc_str, '%Y-%m-%d %H:%M:%S')\n",
    "gfs_ts_start_local = gfs_ts_start_utc + timedelta(hours=5, minutes=30)\n",
    "print(gfs_ts_start_local)"
   ]
  },
  {
   "cell_type": "code",
   "execution_count": 21,
   "metadata": {},
   "outputs": [
    {
     "name": "stdout",
     "output_type": "stream",
     "text": [
      "2019-12-10 11:30:00\n"
     ]
    }
   ],
   "source": [
    "gfs_ts_end_local = gfs_ts_start_local + timedelta(days=3)\n",
    "print(gfs_ts_end_local)"
   ]
  },
  {
   "cell_type": "code",
   "execution_count": 4,
   "metadata": {},
   "outputs": [
    {
     "name": "stdout",
     "output_type": "stream",
     "text": [
      "['IBATTARA2-62', ' Kottawa North Dharmapala School-55', 'Kohuwala']\n",
      "[['IBATTARA2', '62'], [' Kottawa North Dharmapala School', '55'], ['Kohuwala', '60']]\n"
     ]
    }
   ],
   "source": [
    "station_accuracy = '60'\n",
    "obs_stations = 'IBATTARA2-62, Kottawa North Dharmapala School-55,Kohuwala'\n",
    "station_list = obs_stations.split(\",\")\n",
    "print(station_list)\n",
    "formatted_list = []\n",
    "for station in station_list:\n",
    "    station_val = station.split('-')\n",
    "    if len(station_val)==2:\n",
    "        formatted_list.append([station_val[0],station_val[1]])\n",
    "    else:\n",
    "        formatted_list.append([station_val[0],station_accuracy])\n",
    "print(formatted_list)"
   ]
  },
  {
   "cell_type": "code",
   "execution_count": 7,
   "metadata": {},
   "outputs": [
    {
     "name": "stdout",
     "output_type": "stream",
     "text": [
      "get_instance|db_config :  {'mysql_user': 'admin', 'mysql_password': 'floody', 'mysql_host': '35.227.163.211', 'mysql_db': 'curw_fcst', 'log_path': '/home/hasitha/PycharmProjects/DSS-Framework/log'}\n",
      "get_instance|db_config :  {'mysql_user': 'admin', 'mysql_password': 'floody', 'mysql_host': '35.227.163.211', 'mysql_db': 'curw_obs', 'log_path': '/home/hasitha/PycharmProjects/DSS-Framework/log'}\n",
      "get_instance|db_config :  {'mysql_user': 'admin', 'mysql_password': 'floody', 'mysql_host': '35.227.163.211', 'mysql_db': 'curw_sim', 'log_path': '/home/hasitha/PycharmProjects/DSS-Framework/log'}\n"
     ]
    }
   ],
   "source": [
    "import sys\n",
    "sys.path.insert(0, '/home/hasitha/PycharmProjects/DSS-Framework/db_util')\n",
    "from gen_db import CurwFcstAdapter, CurwObsAdapter, CurwSimAdapter\n",
    "from dss_db import RuleEngineAdapter\n",
    "\n",
    "def get_curw_dss_adapter(db_config=None):\n",
    "    if db_config is None:\n",
    "        db_config = Variable.get('db_config', deserialize_json=True)\n",
    "    adapter = RuleEngineAdapter.get_instance(db_config)\n",
    "    return adapter\n",
    "\n",
    "\n",
    "def get_curw_fcst_adapter(db_config=None):\n",
    "    if db_config is None:\n",
    "        db_config = Variable.get('fcst_db_config', deserialize_json=True)\n",
    "    adapter = CurwFcstAdapter.get_instance(db_config)\n",
    "    return adapter\n",
    "\n",
    "\n",
    "def get_curw_obs_adapter(db_config=None):\n",
    "    if db_config is None:\n",
    "        db_config = Variable.get('obs_db_config', deserialize_json=True)\n",
    "    adapter = CurwObsAdapter.get_instance(db_config)\n",
    "    return adapter\n",
    "\n",
    "\n",
    "def get_curw_sim_adapter(db_config=None):\n",
    "    if db_config is None:\n",
    "        db_config = Variable.get('sim_db_config', deserialize_json=True)\n",
    "    adapter = CurwSimAdapter.get_instance(db_config)\n",
    "    return adapter\n",
    "\n",
    "obs_db_config = {'mysql_user': 'admin', 'mysql_password': 'floody', 'mysql_host': '35.227.163.211',\n",
    "               'mysql_db': 'curw_obs', 'log_path': '/home/hasitha/PycharmProjects/DSS-Framework/log'}\n",
    "sim_db_config = {'mysql_user': 'admin', 'mysql_password': 'floody', 'mysql_host': '35.227.163.211',\n",
    "                  'mysql_db': 'curw_sim', 'log_path': '/home/hasitha/PycharmProjects/DSS-Framework/log'}\n",
    "fcst_db_config = {'mysql_user': 'admin', 'mysql_password': 'floody', 'mysql_host': '35.227.163.211',\n",
    "                'mysql_db': 'curw_fcst', 'log_path': '/home/hasitha/PycharmProjects/DSS-Framework/log'}\n",
    "dss_db_config = {'mysql_user': 'admin', 'mysql_password': 'floody', 'mysql_host': '35.227.163.211',\n",
    "                'mysql_db': 'dss', 'log_path': '/home/hasitha/PycharmProjects/DSS-Framework/log'}\n",
    "\n",
    "dss_adapter = get_curw_dss_adapter(dss_db_config)\n",
    "fcst_adapter = get_curw_fcst_adapter(fcst_db_config)\n",
    "obs_adapter = get_curw_obs_adapter(obs_db_config)\n",
    "sim_adapter = get_curw_sim_adapter(sim_db_config)"
   ]
  },
  {
   "cell_type": "code",
   "execution_count": 8,
   "metadata": {},
   "outputs": [],
   "source": [
    "def calculate_wrf_rule_accuracy(wrf_rule, exec_datetime, dss_adapter):\n",
    "    print('calculate_wrf_rule_accuracy|wrf_rule : ', wrf_rule)\n",
    "    print('calculate_wrf_rule_accuracy|execution_date : ', exec_datetime)\n",
    "    wrf_model = 'WRF_{}'.format(wrf_rule['model'])\n",
    "    print('calculate_wrf_rule_accuracy|wrf_model : ', wrf_model)\n",
    "    wrf_version = wrf_rule['version']\n",
    "    wrf_run = wrf_rule['rule_info']['run']\n",
    "    gfs_hour = wrf_rule['rule_info']['hour']\n",
    "    accuracy_rule_id = wrf_rule['rule_info']['accuracy_rule']\n",
    "    sim_tag = 'gfs_d{}_{}'.format(wrf_run, gfs_hour)\n",
    "    print('calculate_wrf_rule_accuracy|sim_tag : ', sim_tag)\n",
    "    accuracy_rule = dss_adapter.get_accuracy_rule_info_by_id(accuracy_rule_id)\n",
    "    print('calculate_wrf_rule_accuracy|accuracy_rule : ', accuracy_rule)\n",
    "    obs_station_list = format_obs_station_list(accuracy_rule['observed_stations'], accuracy_rule['station_accuracy'])\n",
    "    if len(obs_station_list) > 0:\n",
    "        for [obs_station, accuracy_level] in obs_station_list:\n",
    "            calculate_station_accuracy(obs_station, wrf_model, wrf_version, wrf_run, gfs_hour, exec_datetime, sim_tag)"
   ]
  },
  {
   "cell_type": "code",
   "execution_count": null,
   "metadata": {},
   "outputs": [],
   "source": []
  }
 ],
 "metadata": {
  "kernelspec": {
   "display_name": "Python 3",
   "language": "python",
   "name": "python3"
  },
  "language_info": {
   "codemirror_mode": {
    "name": "ipython",
    "version": 3
   },
   "file_extension": ".py",
   "mimetype": "text/x-python",
   "name": "python",
   "nbconvert_exporter": "python",
   "pygments_lexer": "ipython3",
   "version": "3.6.5"
  }
 },
 "nbformat": 4,
 "nbformat_minor": 2
}
