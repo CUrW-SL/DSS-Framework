{
 "cells": [
  {
   "cell_type": "code",
   "execution_count": 6,
   "metadata": {},
   "outputs": [],
   "source": [
    "from datetime import datetime,timedelta"
   ]
  },
  {
   "cell_type": "code",
   "execution_count": 16,
   "metadata": {},
   "outputs": [
    {
     "name": "stdout",
     "output_type": "stream",
     "text": [
      "2019-12-07 07:21:32\n",
      "2019-12-07 00:00:00\n"
     ]
    }
   ],
   "source": [
    "exec_datetime = '2019-12-07 07:21:32'\n",
    "wrf_run = '0'\n",
    "wrf_run = int(wrf_run)\n",
    "gfs_hour = '06'\n",
    "exec_datetime = datetime.strptime(exec_datetime, '%Y-%m-%d %H:%M:%S')\n",
    "print(exec_datetime)\n",
    "exec_date_str = exec_datetime.strftime('%Y-%m-%d')\n",
    "exec_date = datetime.strptime(exec_date_str, '%Y-%m-%d')\n",
    "print(exec_date)"
   ]
  },
  {
   "cell_type": "code",
   "execution_count": 17,
   "metadata": {},
   "outputs": [
    {
     "name": "stdout",
     "output_type": "stream",
     "text": [
      "2019-12-07\n"
     ]
    }
   ],
   "source": [
    "ts_start_date = exec_date - timedelta(days=wrf_run)\n",
    "ts_start_date_str = ts_start_date.strftime('%Y-%m-%d')\n",
    "print(ts_start_date_str)"
   ]
  },
  {
   "cell_type": "code",
   "execution_count": 19,
   "metadata": {},
   "outputs": [
    {
     "name": "stdout",
     "output_type": "stream",
     "text": [
      "2019-12-07 06:00:00\n"
     ]
    }
   ],
   "source": [
    "gfs_ts_start_utc_str = '{} {}:00:00'.format(ts_start_date_str, gfs_hour)\n",
    "print(gfs_ts_start_utc_str)"
   ]
  },
  {
   "cell_type": "code",
   "execution_count": 20,
   "metadata": {},
   "outputs": [
    {
     "name": "stdout",
     "output_type": "stream",
     "text": [
      "2019-12-07 11:30:00\n"
     ]
    }
   ],
   "source": [
    "gfs_ts_start_utc = datetime.strptime(gfs_ts_start_utc_str, '%Y-%m-%d %H:%M:%S')\n",
    "gfs_ts_start_local = gfs_ts_start_utc + timedelta(hours=5, minutes=30)\n",
    "print(gfs_ts_start_local)"
   ]
  },
  {
   "cell_type": "code",
   "execution_count": 21,
   "metadata": {},
   "outputs": [
    {
     "name": "stdout",
     "output_type": "stream",
     "text": [
      "2019-12-10 11:30:00\n"
     ]
    }
   ],
   "source": [
    "gfs_ts_end_local = gfs_ts_start_local + timedelta(days=3)\n",
    "print(gfs_ts_end_local)"
   ]
  },
  {
   "cell_type": "code",
   "execution_count": null,
   "metadata": {},
   "outputs": [],
   "source": []
  }
 ],
 "metadata": {
  "kernelspec": {
   "display_name": "Python 3",
   "language": "python",
   "name": "python3"
  },
  "language_info": {
   "codemirror_mode": {
    "name": "ipython",
    "version": 3
   },
   "file_extension": ".py",
   "mimetype": "text/x-python",
   "name": "python",
   "nbconvert_exporter": "python",
   "pygments_lexer": "ipython3",
   "version": "3.6.5"
  }
 },
 "nbformat": 4,
 "nbformat_minor": 2
}
