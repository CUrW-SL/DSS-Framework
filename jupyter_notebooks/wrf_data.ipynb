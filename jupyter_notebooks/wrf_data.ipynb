{
 "cells": [
  {
   "cell_type": "code",
   "execution_count": 2,
   "metadata": {},
   "outputs": [],
   "source": [
    "from netCDF4 import Dataset\n",
    "import numpy as np\n",
    "import os\n",
    "from datetime import datetime, timedelta\n",
    "import pandas as pd"
   ]
  },
  {
   "cell_type": "code",
   "execution_count": 3,
   "metadata": {},
   "outputs": [],
   "source": [
    "def get_per_time_slot_values(prcp):\n",
    "    per_interval_prcp = (prcp[1:] - prcp[:-1])\n",
    "    return per_interval_prcp    "
   ]
  },
  {
   "cell_type": "code",
   "execution_count": null,
   "metadata": {},
   "outputs": [],
   "source": [
    "def read_netcdf(netcdf_file):\n",
    "    nnc_fid = Dataset(rainnc_net_cdf_file, mode='r')\n",
    "    time_unit_info = nnc_fid.variables['XTIME'].units\n",
    "    print('time_unit_info : ', time_unit_info)\n",
    "    time_unit_info_list = time_unit_info.split('since ')\n",
    "    print(time_unit_info_list)\n",
    "\n",
    "    lats = nnc_fid.variables['XLAT'][0, :, 0]\n",
    "    lons = nnc_fid.variables['XLONG'][0, 0, :]\n",
    "\n",
    "    lon_min = lons[0].item()\n",
    "    lat_min = lats[0].item()\n",
    "    lon_max = lons[-1].item()\n",
    "    lat_max = lats[-1].item()\n",
    "\n",
    "    lat_inds = np.where((lats >= lat_min) & (lats <= lat_max))\n",
    "    lon_inds = np.where((lons >= lon_min) & (lons <= lon_max))\n",
    "\n",
    "    rainnc = nnc_fid.variables['RAINNC'][:, lat_inds[0], lon_inds[0]]\n",
    "    times = nnc_fid.variables['XTIME'][:]\n",
    "    nnc_fid.close()\n",
    "    \n",
    "    diff = get_per_time_slot_values(rainnc)\n",
    "    width = len(lons)\n",
    "    height = len(lats)\n",
    "    \n",
    "    ts_df_list = []\n",
    "    \n",
    "    for i in range(len(diff)):\n",
    "        ts_time = datetime.strptime(time_unit_info_list[1], '%Y-%m-%d %H:%M:%S') + \n",
    "            timedelta(minutes=times[i + 1].item())\n",
    "        t = datetime_utc_to_lk(ts_time, shift_mins=0)\n",
    "        timestamp = t.strftime('%Y-%m-%d_%H-%M')\n",
    "        ts_list = []\n",
    "        for y in range(height):\n",
    "            for x in range(width):\n",
    "                lat = float('%.6f' % lats[y])\n",
    "                lon = float('%.6f' % lons[x])\n",
    "                rain = '%.3f' % float(diff[i, y, x])\n",
    "                ts_list.append([lon, lat, rain])\n",
    "        ts_df = pd.DataFrame(ts_list, columns=['Lon', 'Lat', 'Rain'])\n",
    "        ts_df_list.append(ts_df)\n",
    "    return ts_df_list"
   ]
  }
 ],
 "metadata": {
  "kernelspec": {
   "display_name": "Python 3",
   "language": "python",
   "name": "python3"
  },
  "language_info": {
   "codemirror_mode": {
    "name": "ipython",
    "version": 3
   },
   "file_extension": ".py",
   "mimetype": "text/x-python",
   "name": "python",
   "nbconvert_exporter": "python",
   "pygments_lexer": "ipython3",
   "version": "3.6.5"
  }
 },
 "nbformat": 4,
 "nbformat_minor": 2
}
